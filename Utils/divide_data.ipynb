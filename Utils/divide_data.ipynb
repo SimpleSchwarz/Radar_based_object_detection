{
 "cells": [
  {
   "cell_type": "code",
   "execution_count": 1,
   "id": "315ce035",
   "metadata": {},
   "outputs": [
    {
     "name": "stderr",
     "output_type": "stream",
     "text": [
      "Copying files: 7236 files [01:12, 100.45 files/s]\n"
     ]
    }
   ],
   "source": [
    "import splitfolders\n",
    "\n",
    "splitfolders.ratio(\"/home/aimotion/Desktop/Radiate/dataset/dataset_xml/data/original_data (copy)\",output=\"./output\", seed=1337, ratio=(.8, .1, .1), group_prefix=2)"
   ]
  },
  {
   "cell_type": "code",
   "execution_count": null,
   "id": "257d193a",
   "metadata": {},
   "outputs": [],
   "source": []
  },
  {
   "cell_type": "code",
   "execution_count": null,
   "id": "467caec1",
   "metadata": {},
   "outputs": [],
   "source": []
  }
 ],
 "metadata": {
  "kernelspec": {
   "display_name": "Python 3 (ipykernel)",
   "language": "python",
   "name": "python3"
  },
  "language_info": {
   "codemirror_mode": {
    "name": "ipython",
    "version": 3
   },
   "file_extension": ".py",
   "mimetype": "text/x-python",
   "name": "python",
   "nbconvert_exporter": "python",
   "pygments_lexer": "ipython3",
   "version": "3.9.0"
  }
 },
 "nbformat": 4,
 "nbformat_minor": 5
}
