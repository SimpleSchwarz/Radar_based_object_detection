{
 "cells": [
  {
   "cell_type": "code",
   "execution_count": 1,
   "id": "11ccc4a9",
   "metadata": {},
   "outputs": [],
   "source": [
    "import os\n",
    "import numpy as np\n",
    "import matplotlib.patches as patches\n",
    "import matplotlib.pyplot as plt\n",
    "from bs4 import BeautifulSoup\n",
    "from PIL import Image\n",
    "import torchvision\n",
    "from torchvision import transforms, datasets, models\n",
    "from torchvision.models.detection.faster_rcnn import FastRCNNPredictor\n",
    "import time\n",
    "import torch\n",
    "from tqdm import tqdm"
   ]
  },
  {
   "cell_type": "code",
   "execution_count": 2,
   "id": "8821a1f4",
   "metadata": {},
   "outputs": [],
   "source": [
    "def generate_box(obj):\n",
    "    \n",
    "    xmin = float(obj.find('xmin').text)\n",
    "    ymin = float(obj.find('ymin').text)\n",
    "    xmax = float(obj.find('xmax').text)\n",
    "    ymax = float(obj.find('ymax').text)\n",
    "    \n",
    "    return [xmin, ymin, xmax, ymax]\n",
    "\n",
    "def generate_label(obj):\n",
    "\n",
    "    if obj.find('name').text == \"vehicle\":\n",
    "        return 1\n",
    "\n",
    "    return 0\n",
    "\n",
    "def generate_target(file): \n",
    "    with open(file) as f:\n",
    "        data = f.read()\n",
    "        soup = BeautifulSoup(data, \"html.parser\")\n",
    "        objects = soup.find_all(\"object\")\n",
    "\n",
    "        num_objs = len(objects)\n",
    "\n",
    "        boxes = []\n",
    "        labels = []\n",
    "        for i in objects:\n",
    "            boxes.append(generate_box(i))\n",
    "            labels.append(generate_label(i))\n",
    "\n",
    "        boxes = torch.as_tensor(boxes, dtype=torch.float32) \n",
    "        labels = torch.as_tensor(labels, dtype=torch.int64) \n",
    "        \n",
    "        target = {}\n",
    "        target[\"boxes\"] = boxes\n",
    "        target[\"labels\"] = labels\n",
    "        \n",
    "        return target\n",
    "    \n",
    "class RadarDataset(object):\n",
    "    def __init__(self, transforms, path):\n",
    "        self.transforms = transforms\n",
    "        self.path = path\n",
    "        self.imgs = list(sorted(os.listdir(self.path)))\n",
    "\n",
    "    def __getitem__(self, idx):\n",
    "        file_image = self.imgs[idx]\n",
    "        file_label = self.imgs[idx][:-3] + 'xml'\n",
    "        img_path = os.path.join(self.path, file_image)\n",
    "        \n",
    "        if 'val' in self.path:\n",
    "            label_path = os.path.join(\"../Ex3_final/data/\"+weather+\"/annotations_val/\", file_label)\n",
    "        elif 'test' in self.path:\n",
    "            label_path = os.path.join('/home/aimotion/Desktop/Radiate/Experiment/Ex1/data/annotations_test/', file_label)\n",
    "        else:\n",
    "            label_path = os.path.join(\"../Ex3_final/data/\"+weather+\"/annotations_train/\", file_label)\n",
    "\n",
    "        img = Image.open(img_path)\n",
    "        target = generate_target(label_path)\n",
    "        \n",
    "        if self.transforms is not None:\n",
    "            img = self.transforms(img)\n",
    "\n",
    "        return img, target\n",
    "\n",
    "    def __len__(self): \n",
    "        return len(self.imgs)\n",
    "\n",
    "def collate_fn(batch):\n",
    "    return tuple(zip(*batch))\n",
    "\n",
    "# load model\n",
    "def get_model_instance_segmentation(num_classes):  \n",
    "    model = torchvision.models.detection.fasterrcnn_resnet50_fpn(pretrained=True)\n",
    "    in_features = model.roi_heads.box_predictor.cls_score.in_features\n",
    "    model.roi_heads.box_predictor = FastRCNNPredictor(in_features, num_classes)\n",
    "\n",
    "    return model\n",
    "\n",
    "def make_prediction(model, img, threshold):\n",
    "    model.eval()\n",
    "    preds = model(img)\n",
    "    for id in range(len(preds)) :\n",
    "        idx_list = []\n",
    "\n",
    "        for idx, score in enumerate(preds[id]['scores']) :\n",
    "            if score > threshold : \n",
    "                idx_list.append(idx)\n",
    "\n",
    "        preds[id]['boxes'] = preds[id]['boxes'][idx_list]\n",
    "        preds[id]['labels'] = preds[id]['labels'][idx_list]\n",
    "        preds[id]['scores'] = preds[id]['scores'][idx_list]\n",
    "\n",
    "    return preds\n",
    "\n",
    "def get_batch_statistics(outputs, targets, iou_threshold):\n",
    "    \"\"\" Compute true positives, predicted scores and predicted labels per sample \"\"\"\n",
    "    batch_metrics = []\n",
    "    for sample_i in range(len(outputs)):  # outputs=preds_adj_all, targets=annot_all\n",
    "\n",
    "        if outputs[sample_i] is None:\n",
    "            continue\n",
    "\n",
    "        output = outputs[sample_i] # predict\n",
    "        # pred_boxes = output['boxes']\n",
    "        # pred_scores = output['scores']\n",
    "        # pred_labels = output['labels']\n",
    "\n",
    "        true_positives = torch.zeros(output['boxes'].shape[0])   # The number of predicted objects\n",
    "        annotations = targets[sample_i]  # ground-truth\n",
    "        target_labels = annotations['labels'] if len(annotations) else []\n",
    "        if len(annotations):    # len(annotations) = 3\n",
    "            detected_boxes = []\n",
    "            target_boxes = annotations['boxes']\n",
    "\n",
    "            for pred_i, (pred_box, pred_label) in enumerate(zip(output['boxes'], output['labels'])): \n",
    "                \n",
    "                # If targets are found break\n",
    "                if len(detected_boxes) == len(target_labels): # annotations -> target_labels\n",
    "                    break\n",
    "\n",
    "                # Ignore if label is not one of the target labels\n",
    "                if pred_label not in target_labels:\n",
    "                    continue\n",
    "\n",
    "                iou, box_index = bbox_iou(pred_box.unsqueeze(0), target_boxes).max(0)   # box_index : 실제 어떤 바운딩 박스랑 IoU 가 가장 높은지 index\n",
    "                if iou >= iou_threshold and box_index not in detected_boxes: # iou만 맞으면 통과?\n",
    "                    true_positives[pred_i] = 1\n",
    "                    detected_boxes += [box_index]  # 예측된거랑 실제랑 매핑해서 하나씩 index 채움\n",
    "        batch_metrics.append([true_positives, output['scores'], output['labels']])\n",
    "    return batch_metrics\n",
    "\n",
    "def bbox_iou(box1, box2, x1y1x2y2=True):\n",
    "    \"\"\"\n",
    "    Returns the IoU of two bounding boxes\n",
    "    \"\"\"\n",
    "    if not x1y1x2y2:\n",
    "        # Transform from center and width to exact coordinates\n",
    "        b1_x1, b1_x2 = box1[:, 0] - box1[:, 2] / 2, box1[:, 0] + box1[:, 2] / 2\n",
    "        b1_y1, b1_y2 = box1[:, 1] - box1[:, 3] / 2, box1[:, 1] + box1[:, 3] / 2\n",
    "        b2_x1, b2_x2 = box2[:, 0] - box2[:, 2] / 2, box2[:, 0] + box2[:, 2] / 2\n",
    "        b2_y1, b2_y2 = box2[:, 1] - box2[:, 3] / 2, box2[:, 1] + box2[:, 3] / 2\n",
    "    else:\n",
    "        # Get the coordinates of bounding boxes\n",
    "        b1_x1, b1_y1, b1_x2, b1_y2 = box1[:, 0], box1[:, 1], box1[:, 2], box1[:, 3]\n",
    "        b2_x1, b2_y1, b2_x2, b2_y2 = box2[:, 0], box2[:, 1], box2[:, 2], box2[:, 3]\n",
    "\n",
    "    # get the corrdinates of the intersection rectangle\n",
    "    inter_rect_x1 = torch.max(b1_x1, b2_x1)\n",
    "    inter_rect_y1 = torch.max(b1_y1, b2_y1)\n",
    "    inter_rect_x2 = torch.min(b1_x2, b2_x2)\n",
    "    inter_rect_y2 = torch.min(b1_y2, b2_y2)\n",
    "    # Intersection area\n",
    "    inter_area = torch.clamp(inter_rect_x2 - inter_rect_x1 + 1, min=0) * torch.clamp(inter_rect_y2 - inter_rect_y1 + 1, min=0)\n",
    "    # Union Area\n",
    "    b1_area = (b1_x2 - b1_x1 + 1) * (b1_y2 - b1_y1 + 1)\n",
    "    b2_area = (b2_x2 - b2_x1 + 1) * (b2_y2 - b2_y1 + 1)\n",
    "\n",
    "    iou = inter_area / (b1_area + b2_area - inter_area + 1e-16)\n",
    "\n",
    "    return iou\n",
    "\n",
    "def ap_per_class(tp, conf, pred_cls, target_cls):\n",
    "    \"\"\" Compute the average precision, given the recall and precision curves.\n",
    "    Source: https://github.com/rafaelpadilla/Object-Detection-Metrics.\n",
    "    # Arguments\n",
    "        tp:    True positives (list).\n",
    "        conf:  Objectness value from 0-1 (list).\n",
    "        pred_cls: Predicted object classes (list).\n",
    "        target_cls: True object classes (list).\n",
    "    # Returns\n",
    "        The average precision as computed in py-faster-rcnn.\n",
    "    \"\"\"\n",
    "\n",
    "    # Sort by objectness\n",
    "    i = torch.argsort(-conf)\n",
    "    tp, conf, pred_cls = tp[i], conf[i], pred_cls[i]\n",
    "\n",
    "    # Find unique classes\n",
    "    unique_classes = torch.unique(target_cls)   # 2가 거의 예측안됨\n",
    "\n",
    "    # Create Precision-Recall curve and compute AP for each class\n",
    "    ap, p, r = [], [], []\n",
    "    for c in unique_classes:\n",
    "        i = pred_cls == c\n",
    "        n_gt = (target_cls == c).sum()  # Number of ground truth objects\n",
    "        n_p = i.sum()  # Number of predicted objects\n",
    "\n",
    "        if n_p == 0 and n_gt == 0:\n",
    "            continue\n",
    "        elif n_p == 0 or n_gt == 0:\n",
    "            ap.append(0)\n",
    "            r.append(0)\n",
    "            p.append(0)\n",
    "        else:\n",
    "            # Accumulate FPs and TPs\n",
    "            fpc = torch.cumsum(1 - tp[i],-1)\n",
    "            tpc = torch.cumsum(tp[i],-1)\n",
    "\n",
    "            # Recall\n",
    "            recall_curve = tpc / (n_gt + 1e-16)\n",
    "            r.append(recall_curve[-1])\n",
    "\n",
    "            # Precision\n",
    "            precision_curve = tpc / (tpc + fpc)\n",
    "            p.append(precision_curve[-1])\n",
    "\n",
    "            # AP from recall-precision curve\n",
    "            ap.append(compute_ap(recall_curve, precision_curve))\n",
    "\n",
    "    # Compute F1 score (harmonic mean of precision and recall)\n",
    "    p, r, ap = torch.tensor(np.array(p)), torch.tensor(np.array(r)), torch.tensor(np.array(ap))\n",
    "    f1 = 2 * p * r / (p + r + 1e-16)\n",
    "\n",
    "    return p, r, ap, f1, unique_classes\n",
    "\n",
    "def compute_ap(recall, precision):\n",
    "    \"\"\" Compute the average precision, given the recall and precision curves.\n",
    "    Code originally from https://github.com/rbgirshick/py-faster-rcnn.\n",
    "    # Arguments\n",
    "        recall:    The recall curve (list).\n",
    "        precision: The precision curve (list).\n",
    "    # Returns\n",
    "        The average precision as computed in py-faster-rcnn.\n",
    "    \"\"\"\n",
    "    # correct AP calculation\n",
    "    # first append sentinel values at the end\n",
    "    mrec = np.concatenate(([0.0], recall, [1.0]))\n",
    "    mpre = np.concatenate(([0.0], precision, [0.0]))\n",
    "\n",
    "    # compute the precision envelope\n",
    "    for i in range(mpre.size - 1, 0, -1):\n",
    "        mpre[i - 1] = np.maximum(mpre[i - 1], mpre[i])\n",
    "\n",
    "    # to calculate area under PR curve, look for points\n",
    "    # where X axis (recall) changes value\n",
    "    i = np.where(mrec[1:] != mrec[:-1])[0]\n",
    "\n",
    "    # and sum (\\Delta recall) * prec\n",
    "    ap = np.sum((mrec[i + 1] - mrec[i]) * mpre[i + 1])\n",
    "    return ap\n",
    "\n",
    "data_transform = transforms.Compose([ \n",
    "        transforms.ToTensor() \n",
    "    ])\n",
    "\n",
    "device = torch.device('cuda') if torch.cuda.is_available() else torch.device('cpu')\n",
    "\n",
    "\n",
    "\n",
    "class RadarDataset_fog(object):\n",
    "    def __init__(self, transforms, path):\n",
    "        self.transforms = transforms\n",
    "        self.path = path\n",
    "        self.imgs = list(sorted(os.listdir(self.path)))\n",
    "\n",
    "\n",
    "    def __getitem__(self, idx):\n",
    "        file_image = self.imgs[idx]\n",
    "        file_label = self.imgs[idx][:-3] + 'xml'\n",
    "        \n",
    "        img_path = os.path.join(self.path, file_image)\n",
    "        label_path = os.path.join('./test/annotations_test_fog/', file_label)\n",
    "\n",
    "        img = Image.open(img_path)\n",
    "        target = generate_target(label_path)\n",
    "        \n",
    "        if self.transforms is not None:\n",
    "            img = self.transforms(img)\n",
    "\n",
    "        return img, target\n",
    "\n",
    "    def __len__(self): \n",
    "        return len(self.imgs)\n",
    "\n",
    "data_transform = transforms.Compose([ \n",
    "        transforms.ToTensor() \n",
    "    ])\n",
    "\n",
    "def collate_fn(batch):\n",
    "    return tuple(zip(*batch))\n",
    "\n",
    "class RadarDataset_rain(object):\n",
    "    def __init__(self, transforms, path):\n",
    "        self.transforms = transforms\n",
    "        self.path = path\n",
    "        self.imgs = list(sorted(os.listdir(self.path)))\n",
    "\n",
    "\n",
    "    def __getitem__(self, idx):\n",
    "        file_image = self.imgs[idx]\n",
    "        file_label = self.imgs[idx][:-3] + 'xml'\n",
    "        \n",
    "        img_path = os.path.join(self.path, file_image)\n",
    "        label_path = os.path.join('./test/annotations_test_rain/', file_label)\n",
    "\n",
    "        img = Image.open(img_path)\n",
    "        target = generate_target(label_path)\n",
    "        \n",
    "        if self.transforms is not None:\n",
    "            img = self.transforms(img)\n",
    "\n",
    "        return img, target\n",
    "\n",
    "    def __len__(self): \n",
    "        return len(self.imgs)\n",
    "\n",
    "data_transform = transforms.Compose([ \n",
    "        transforms.ToTensor() \n",
    "    ])\n",
    "\n",
    "def collate_fn(batch):\n",
    "    return tuple(zip(*batch))\n",
    "\n",
    "class RadarDataset_sunny(object):\n",
    "    def __init__(self, transforms, path):\n",
    "        self.transforms = transforms\n",
    "        self.path = path\n",
    "        self.imgs = list(sorted(os.listdir(self.path)))\n",
    "\n",
    "\n",
    "    def __getitem__(self, idx):\n",
    "        file_image = self.imgs[idx]\n",
    "        file_label = self.imgs[idx][:-3] + 'xml'\n",
    "        \n",
    "        img_path = os.path.join(self.path, file_image)\n",
    "        label_path = os.path.join('./test/annotations_test_sunny/', file_label)\n",
    "\n",
    "        img = Image.open(img_path)\n",
    "        target = generate_target(label_path)\n",
    "        \n",
    "        if self.transforms is not None:\n",
    "            img = self.transforms(img)\n",
    "\n",
    "        return img, target\n",
    "\n",
    "    def __len__(self): \n",
    "        return len(self.imgs)\n",
    "\n",
    "data_transform = transforms.Compose([ \n",
    "        transforms.ToTensor() \n",
    "    ])\n",
    "\n",
    "def collate_fn(batch):\n",
    "    return tuple(zip(*batch))"
   ]
  },
  {
   "cell_type": "code",
   "execution_count": 3,
   "id": "94087a01",
   "metadata": {},
   "outputs": [],
   "source": [
    "test_dataset_fog = RadarDataset_fog(data_transform, './test/images_test_fog/')\n",
    "test_data_loader_fog = torch.utils.data.DataLoader(test_dataset_fog, batch_size=1, collate_fn=collate_fn)\n",
    "\n",
    "test_dataset_rain = RadarDataset_rain(data_transform, './test/images_test_rain/')\n",
    "test_data_loader_rain = torch.utils.data.DataLoader(test_dataset_rain, batch_size=1, collate_fn=collate_fn)\n",
    "\n",
    "test_dataset_sunny = RadarDataset_sunny(data_transform, './test/images_test_sunny/')\n",
    "test_data_loader_sunny = torch.utils.data.DataLoader(test_dataset_sunny, batch_size=1, collate_fn=collate_fn)"
   ]
  },
  {
   "cell_type": "code",
   "execution_count": 4,
   "id": "354f6086",
   "metadata": {},
   "outputs": [
    {
     "name": "stderr",
     "output_type": "stream",
     "text": [
      "Iterating validation dataset: 100%|███████████| 149/149 [00:18<00:00,  8.11it/s]\n",
      "Iterating training dataset: 100%|███████████| 1194/1194 [05:24<00:00,  3.68it/s]\n",
      "Calculating AP: 100%|█████████████████████████| 149/149 [00:18<00:00,  8.23it/s]\n"
     ]
    },
    {
     "name": "stdout",
     "output_type": "stream",
     "text": [
      "Train :sunny_1\n",
      "epoch : 1, Train Loss : 0.10454947698137519, Val Loss : 0.2209819981315792, Time : 361.0790240764618, AP : 0.9536222534005638\n"
     ]
    },
    {
     "name": "stderr",
     "output_type": "stream",
     "text": [
      "Iterating validation dataset: 100%|███████████| 160/160 [00:19<00:00,  8.29it/s]\n",
      "Iterating training dataset: 100%|███████████| 1281/1281 [05:48<00:00,  3.68it/s]\n",
      "Calculating AP: 100%|█████████████████████████| 160/160 [00:19<00:00,  8.20it/s]\n"
     ]
    },
    {
     "name": "stdout",
     "output_type": "stream",
     "text": [
      "Train :rain_1\n",
      "epoch : 1, Train Loss : 0.3545984272887984, Val Loss : 0.8159632841125131, Time : 387.6439392566681, AP : 0.8142745790518031\n"
     ]
    },
    {
     "name": "stderr",
     "output_type": "stream",
     "text": [
      "Iterating validation dataset: 100%|█████████████| 52/52 [00:06<00:00,  8.22it/s]\n",
      "Iterating training dataset: 100%|█████████████| 419/419 [01:53<00:00,  3.68it/s]\n",
      "Calculating AP: 100%|███████████████████████████| 52/52 [00:06<00:00,  8.16it/s]\n"
     ]
    },
    {
     "name": "stdout",
     "output_type": "stream",
     "text": [
      "Train :fog_1\n",
      "epoch : 1, Train Loss : 0.09223917377823719, Val Loss : 0.1393173490292751, Time : 126.47357535362244, AP : 0.9479756599167715\n"
     ]
    },
    {
     "name": "stderr",
     "output_type": "stream",
     "text": [
      "100%|█████████████████████████████████████████| 106/106 [00:07<00:00, 13.38it/s]\n",
      "100%|█████████████████████████████████████████| 321/321 [00:24<00:00, 12.94it/s]\n",
      "100%|█████████████████████████████████████████| 300/300 [00:22<00:00, 13.25it/s]\n"
     ]
    },
    {
     "name": "stdout",
     "output_type": "stream",
     "text": [
      "epoch1_AP:0.790797256972789\n"
     ]
    },
    {
     "name": "stderr",
     "output_type": "stream",
     "text": [
      "Iterating validation dataset: 100%|███████████| 149/149 [00:17<00:00,  8.28it/s]\n",
      "Iterating training dataset: 100%|███████████| 1194/1194 [05:25<00:00,  3.67it/s]\n",
      "Calculating AP: 100%|█████████████████████████| 149/149 [00:18<00:00,  8.27it/s]\n"
     ]
    },
    {
     "name": "stdout",
     "output_type": "stream",
     "text": [
      "Train :sunny_2\n",
      "epoch : 2, Train Loss : 0.0875316814892306, Val Loss : 0.11280932622467911, Time : 361.6549232006073, AP : 0.9525412980876524\n"
     ]
    },
    {
     "name": "stderr",
     "output_type": "stream",
     "text": [
      "Iterating validation dataset: 100%|███████████| 160/160 [00:19<00:00,  8.28it/s]\n",
      "Iterating training dataset: 100%|███████████| 1281/1281 [05:48<00:00,  3.67it/s]\n",
      "Calculating AP: 100%|█████████████████████████| 160/160 [00:19<00:00,  8.22it/s]\n"
     ]
    },
    {
     "name": "stdout",
     "output_type": "stream",
     "text": [
      "Train :rain_2\n",
      "epoch : 2, Train Loss : 0.3191655637066779, Val Loss : 0.6798160278238357, Time : 387.98637318611145, AP : 0.8293679732867849\n"
     ]
    },
    {
     "name": "stderr",
     "output_type": "stream",
     "text": [
      "Iterating validation dataset: 100%|█████████████| 52/52 [00:06<00:00,  8.18it/s]\n",
      "Iterating training dataset: 100%|█████████████| 419/419 [01:53<00:00,  3.68it/s]\n",
      "Calculating AP: 100%|███████████████████████████| 52/52 [00:06<00:00,  7.98it/s]\n"
     ]
    },
    {
     "name": "stdout",
     "output_type": "stream",
     "text": [
      "Train :fog_2\n",
      "epoch : 2, Train Loss : 0.08504497162055287, Val Loss : 0.11532275640190794, Time : 126.83117079734802, AP : 0.9451968415836767\n"
     ]
    },
    {
     "name": "stderr",
     "output_type": "stream",
     "text": [
      "100%|█████████████████████████████████████████| 106/106 [00:07<00:00, 13.31it/s]\n",
      "100%|█████████████████████████████████████████| 321/321 [00:24<00:00, 13.08it/s]\n",
      "100%|█████████████████████████████████████████| 300/300 [00:22<00:00, 13.32it/s]\n"
     ]
    },
    {
     "name": "stdout",
     "output_type": "stream",
     "text": [
      "epoch2_AP:0.7896103019517042\n"
     ]
    },
    {
     "name": "stderr",
     "output_type": "stream",
     "text": [
      "Iterating validation dataset: 100%|███████████| 149/149 [00:17<00:00,  8.37it/s]\n",
      "Iterating training dataset: 100%|███████████| 1194/1194 [05:24<00:00,  3.68it/s]\n",
      "Calculating AP: 100%|█████████████████████████| 149/149 [00:17<00:00,  8.34it/s]\n"
     ]
    },
    {
     "name": "stdout",
     "output_type": "stream",
     "text": [
      "Train :sunny_3\n",
      "epoch : 3, Train Loss : 0.08059654075658601, Val Loss : 0.11739600557308869, Time : 360.01803970336914, AP : 0.9673178491429972\n"
     ]
    },
    {
     "name": "stderr",
     "output_type": "stream",
     "text": [
      "Iterating validation dataset: 100%|███████████| 160/160 [00:19<00:00,  8.33it/s]\n",
      "Iterating training dataset: 100%|███████████| 1281/1281 [05:47<00:00,  3.69it/s]\n",
      "Calculating AP: 100%|█████████████████████████| 160/160 [00:19<00:00,  8.29it/s]\n"
     ]
    },
    {
     "name": "stdout",
     "output_type": "stream",
     "text": [
      "Train :rain_3\n",
      "epoch : 3, Train Loss : 0.2985404694974888, Val Loss : 0.6324372645933181, Time : 386.3660559654236, AP : 0.8446024184491581\n"
     ]
    },
    {
     "name": "stderr",
     "output_type": "stream",
     "text": [
      "Iterating validation dataset: 100%|█████████████| 52/52 [00:06<00:00,  8.27it/s]\n",
      "Iterating training dataset: 100%|█████████████| 419/419 [01:53<00:00,  3.69it/s]\n",
      "Calculating AP: 100%|███████████████████████████| 52/52 [00:06<00:00,  8.20it/s]\n"
     ]
    },
    {
     "name": "stdout",
     "output_type": "stream",
     "text": [
      "Train :fog_3\n",
      "epoch : 3, Train Loss : 0.07982100555250923, Val Loss : 0.12420535796823409, Time : 126.22203588485718, AP : 0.9456068582451671\n"
     ]
    },
    {
     "name": "stderr",
     "output_type": "stream",
     "text": [
      "100%|█████████████████████████████████████████| 106/106 [00:07<00:00, 13.43it/s]\n",
      "100%|█████████████████████████████████████████| 321/321 [00:24<00:00, 13.09it/s]\n",
      "100%|█████████████████████████████████████████| 300/300 [00:22<00:00, 13.34it/s]\n"
     ]
    },
    {
     "name": "stdout",
     "output_type": "stream",
     "text": [
      "epoch3_AP:0.8364209203929969\n"
     ]
    },
    {
     "name": "stderr",
     "output_type": "stream",
     "text": [
      "Iterating validation dataset: 100%|███████████| 149/149 [00:17<00:00,  8.33it/s]\n",
      "Iterating training dataset: 100%|███████████| 1194/1194 [05:24<00:00,  3.68it/s]\n",
      "Calculating AP: 100%|█████████████████████████| 149/149 [00:17<00:00,  8.34it/s]\n"
     ]
    },
    {
     "name": "stdout",
     "output_type": "stream",
     "text": [
      "Train :sunny_4\n",
      "epoch : 4, Train Loss : 0.074434493886778, Val Loss : 0.10427613221358933, Time : 360.4005391597748, AP : 0.9626771512748995\n"
     ]
    },
    {
     "name": "stderr",
     "output_type": "stream",
     "text": [
      "Iterating validation dataset: 100%|███████████| 160/160 [00:19<00:00,  8.33it/s]\n",
      "Iterating training dataset: 100%|███████████| 1281/1281 [05:47<00:00,  3.68it/s]\n",
      "Calculating AP: 100%|█████████████████████████| 160/160 [00:19<00:00,  8.27it/s]\n"
     ]
    },
    {
     "name": "stdout",
     "output_type": "stream",
     "text": [
      "Train :rain_4\n",
      "epoch : 4, Train Loss : 0.2822211536053193, Val Loss : 0.5568875560536981, Time : 386.5865230560303, AP : 0.855072028855866\n"
     ]
    },
    {
     "name": "stderr",
     "output_type": "stream",
     "text": [
      "Iterating validation dataset: 100%|█████████████| 52/52 [00:06<00:00,  8.26it/s]\n",
      "Iterating training dataset: 100%|█████████████| 419/419 [01:53<00:00,  3.68it/s]\n",
      "Calculating AP: 100%|███████████████████████████| 52/52 [00:06<00:00,  8.20it/s]\n"
     ]
    },
    {
     "name": "stdout",
     "output_type": "stream",
     "text": [
      "Train :fog_4\n",
      "epoch : 4, Train Loss : 0.07347298771818668, Val Loss : 0.11293045617640018, Time : 126.40321159362793, AP : 0.9568429140526611\n"
     ]
    },
    {
     "name": "stderr",
     "output_type": "stream",
     "text": [
      "100%|█████████████████████████████████████████| 106/106 [00:07<00:00, 13.44it/s]\n",
      "100%|█████████████████████████████████████████| 321/321 [00:24<00:00, 12.92it/s]\n",
      "100%|█████████████████████████████████████████| 300/300 [00:22<00:00, 13.35it/s]\n"
     ]
    },
    {
     "name": "stdout",
     "output_type": "stream",
     "text": [
      "epoch4_AP:0.8617044351380514\n"
     ]
    },
    {
     "name": "stderr",
     "output_type": "stream",
     "text": [
      "Iterating validation dataset: 100%|███████████| 149/149 [00:17<00:00,  8.36it/s]\n",
      "Iterating training dataset: 100%|███████████| 1194/1194 [05:24<00:00,  3.68it/s]\n",
      "Calculating AP: 100%|█████████████████████████| 149/149 [00:17<00:00,  8.33it/s]\n"
     ]
    },
    {
     "name": "stdout",
     "output_type": "stream",
     "text": [
      "Train :sunny_5\n",
      "epoch : 5, Train Loss : 0.0689035800521198, Val Loss : 0.10406226734787026, Time : 360.21731090545654, AP : 0.9627107247111368\n"
     ]
    },
    {
     "name": "stderr",
     "output_type": "stream",
     "text": [
      "Iterating validation dataset: 100%|███████████| 160/160 [00:19<00:00,  8.33it/s]\n",
      "Iterating training dataset: 100%|███████████| 1281/1281 [05:47<00:00,  3.68it/s]\n",
      "Calculating AP: 100%|█████████████████████████| 160/160 [00:19<00:00,  8.28it/s]\n"
     ]
    },
    {
     "name": "stdout",
     "output_type": "stream",
     "text": [
      "Train :rain_5\n",
      "epoch : 5, Train Loss : 0.2672196112887223, Val Loss : 0.5523613131139428, Time : 386.7988135814667, AP : 0.8595904959295932\n"
     ]
    },
    {
     "name": "stderr",
     "output_type": "stream",
     "text": [
      "Iterating validation dataset: 100%|█████████████| 52/52 [00:06<00:00,  8.22it/s]\n",
      "Iterating training dataset: 100%|█████████████| 419/419 [01:53<00:00,  3.68it/s]\n",
      "Calculating AP: 100%|███████████████████████████| 52/52 [00:06<00:00,  8.23it/s]\n"
     ]
    },
    {
     "name": "stdout",
     "output_type": "stream",
     "text": [
      "Train :fog_5\n",
      "epoch : 5, Train Loss : 0.0703070016804558, Val Loss : 0.11504057239597806, Time : 126.48886489868164, AP : 0.9515405605934504\n"
     ]
    },
    {
     "name": "stderr",
     "output_type": "stream",
     "text": [
      "100%|█████████████████████████████████████████| 106/106 [00:07<00:00, 13.28it/s]\n",
      "100%|█████████████████████████████████████████| 321/321 [00:24<00:00, 12.93it/s]\n",
      "100%|█████████████████████████████████████████| 300/300 [00:22<00:00, 13.24it/s]\n"
     ]
    },
    {
     "name": "stdout",
     "output_type": "stream",
     "text": [
      "epoch5_AP:0.8726575948044513\n"
     ]
    },
    {
     "name": "stderr",
     "output_type": "stream",
     "text": [
      "Iterating validation dataset: 100%|███████████| 149/149 [00:17<00:00,  8.37it/s]\n",
      "Iterating training dataset: 100%|███████████| 1194/1194 [05:24<00:00,  3.68it/s]\n",
      "Calculating AP: 100%|█████████████████████████| 149/149 [00:17<00:00,  8.35it/s]\n"
     ]
    },
    {
     "name": "stdout",
     "output_type": "stream",
     "text": [
      "Train :sunny_6\n",
      "epoch : 6, Train Loss : 0.06463176891257615, Val Loss : 0.10168575102950903, Time : 360.0322380065918, AP : 0.9676551293637274\n"
     ]
    },
    {
     "name": "stderr",
     "output_type": "stream",
     "text": [
      "Iterating validation dataset: 100%|███████████| 160/160 [00:19<00:00,  8.35it/s]\n",
      "Iterating training dataset: 100%|███████████| 1281/1281 [05:48<00:00,  3.68it/s]\n",
      "Calculating AP: 100%|█████████████████████████| 160/160 [00:19<00:00,  8.31it/s]\n"
     ]
    },
    {
     "name": "stdout",
     "output_type": "stream",
     "text": [
      "Train :rain_6\n",
      "epoch : 6, Train Loss : 0.25468362833807284, Val Loss : 0.5326692994683981, Time : 387.02712965011597, AP : 0.8522510727573405\n"
     ]
    },
    {
     "name": "stderr",
     "output_type": "stream",
     "text": [
      "Iterating validation dataset: 100%|█████████████| 52/52 [00:06<00:00,  8.25it/s]\n",
      "Iterating training dataset: 100%|█████████████| 419/419 [01:53<00:00,  3.68it/s]\n",
      "Calculating AP: 100%|███████████████████████████| 52/52 [00:06<00:00,  8.24it/s]\n"
     ]
    },
    {
     "name": "stdout",
     "output_type": "stream",
     "text": [
      "Train :fog_6\n",
      "epoch : 6, Train Loss : 0.06659796800873373, Val Loss : 0.11454156633967963, Time : 126.5864372253418, AP : 0.9413035690503051\n"
     ]
    },
    {
     "name": "stderr",
     "output_type": "stream",
     "text": [
      "100%|█████████████████████████████████████████| 106/106 [00:07<00:00, 13.41it/s]\n",
      "100%|█████████████████████████████████████████| 321/321 [00:24<00:00, 13.00it/s]\n",
      "100%|█████████████████████████████████████████| 300/300 [00:22<00:00, 13.34it/s]\n"
     ]
    },
    {
     "name": "stdout",
     "output_type": "stream",
     "text": [
      "epoch6_AP:0.8709059149889047\n"
     ]
    },
    {
     "name": "stderr",
     "output_type": "stream",
     "text": [
      "Iterating validation dataset: 100%|███████████| 149/149 [00:17<00:00,  8.35it/s]\n",
      "Iterating training dataset: 100%|███████████| 1194/1194 [05:24<00:00,  3.68it/s]\n",
      "Calculating AP: 100%|█████████████████████████| 149/149 [00:17<00:00,  8.35it/s]\n"
     ]
    },
    {
     "name": "stdout",
     "output_type": "stream",
     "text": [
      "Train :sunny_7\n",
      "epoch : 7, Train Loss : 0.06140267075596368, Val Loss : 0.10044483957349654, Time : 360.31936502456665, AP : 0.9612250258478454\n"
     ]
    },
    {
     "name": "stderr",
     "output_type": "stream",
     "text": [
      "Iterating validation dataset: 100%|███████████| 160/160 [00:19<00:00,  8.32it/s]\n",
      "Iterating training dataset: 100%|███████████| 1281/1281 [05:48<00:00,  3.68it/s]\n",
      "Calculating AP: 100%|█████████████████████████| 160/160 [00:19<00:00,  8.29it/s]\n"
     ]
    },
    {
     "name": "stdout",
     "output_type": "stream",
     "text": [
      "Train :rain_7\n",
      "epoch : 7, Train Loss : 0.2393822157021196, Val Loss : 0.5406492742244154, Time : 387.0190510749817, AP : 0.8734224499889827\n"
     ]
    },
    {
     "name": "stderr",
     "output_type": "stream",
     "text": [
      "Iterating validation dataset: 100%|█████████████| 52/52 [00:06<00:00,  8.24it/s]\n",
      "Iterating training dataset: 100%|█████████████| 419/419 [01:54<00:00,  3.67it/s]\n",
      "Calculating AP: 100%|███████████████████████████| 52/52 [00:06<00:00,  8.23it/s]\n"
     ]
    },
    {
     "name": "stdout",
     "output_type": "stream",
     "text": [
      "Train :fog_7\n",
      "epoch : 7, Train Loss : 0.06347973895457024, Val Loss : 0.11041712449290432, Time : 126.7084367275238, AP : 0.9406733522253532\n"
     ]
    },
    {
     "name": "stderr",
     "output_type": "stream",
     "text": [
      "100%|█████████████████████████████████████████| 106/106 [00:07<00:00, 13.46it/s]\n",
      "100%|█████████████████████████████████████████| 321/321 [00:24<00:00, 13.08it/s]\n",
      "100%|█████████████████████████████████████████| 300/300 [00:22<00:00, 13.37it/s]\n"
     ]
    },
    {
     "name": "stdout",
     "output_type": "stream",
     "text": [
      "epoch7_AP:0.8722020773588142\n"
     ]
    },
    {
     "name": "stderr",
     "output_type": "stream",
     "text": [
      "Iterating validation dataset: 100%|███████████| 149/149 [00:17<00:00,  8.36it/s]\n",
      "Iterating training dataset: 100%|███████████| 1194/1194 [05:24<00:00,  3.67it/s]\n",
      "Calculating AP: 100%|█████████████████████████| 149/149 [00:17<00:00,  8.33it/s]\n"
     ]
    },
    {
     "name": "stdout",
     "output_type": "stream",
     "text": [
      "Train :sunny_8\n",
      "epoch : 8, Train Loss : 0.05820253578059912, Val Loss : 0.11524772684046086, Time : 360.76328778266907, AP : 0.9639342235977644\n"
     ]
    },
    {
     "name": "stderr",
     "output_type": "stream",
     "text": [
      "Iterating validation dataset: 100%|███████████| 160/160 [00:19<00:00,  8.31it/s]\n",
      "Iterating training dataset: 100%|███████████| 1281/1281 [05:48<00:00,  3.68it/s]\n",
      "Calculating AP: 100%|█████████████████████████| 160/160 [00:19<00:00,  8.32it/s]\n"
     ]
    },
    {
     "name": "stdout",
     "output_type": "stream",
     "text": [
      "Train :rain_8\n",
      "epoch : 8, Train Loss : 0.22783048480027918, Val Loss : 0.4794866227544844, Time : 387.0088486671448, AP : 0.8717345935280827\n"
     ]
    },
    {
     "name": "stderr",
     "output_type": "stream",
     "text": [
      "Iterating validation dataset: 100%|█████████████| 52/52 [00:06<00:00,  8.26it/s]\n",
      "Iterating training dataset: 100%|█████████████| 419/419 [01:54<00:00,  3.67it/s]\n",
      "Calculating AP: 100%|███████████████████████████| 52/52 [00:06<00:00,  8.23it/s]\n"
     ]
    },
    {
     "name": "stdout",
     "output_type": "stream",
     "text": [
      "Train :fog_8\n",
      "epoch : 8, Train Loss : 0.05906166505904286, Val Loss : 0.11647846900786345, Time : 126.83370327949524, AP : 0.9374873682995073\n"
     ]
    },
    {
     "name": "stderr",
     "output_type": "stream",
     "text": [
      "100%|█████████████████████████████████████████| 106/106 [00:07<00:00, 13.33it/s]\n",
      "100%|█████████████████████████████████████████| 321/321 [00:24<00:00, 13.03it/s]\n",
      "100%|█████████████████████████████████████████| 300/300 [00:22<00:00, 13.38it/s]\n"
     ]
    },
    {
     "name": "stdout",
     "output_type": "stream",
     "text": [
      "epoch8_AP:0.8951234634664127\n"
     ]
    },
    {
     "name": "stderr",
     "output_type": "stream",
     "text": [
      "Iterating validation dataset: 100%|███████████| 149/149 [00:17<00:00,  8.33it/s]\n",
      "Iterating training dataset: 100%|███████████| 1194/1194 [05:24<00:00,  3.67it/s]\n",
      "Calculating AP: 100%|█████████████████████████| 149/149 [00:17<00:00,  8.31it/s]\n"
     ]
    },
    {
     "name": "stdout",
     "output_type": "stream",
     "text": [
      "Train :sunny_9\n",
      "epoch : 9, Train Loss : 0.05473900146445437, Val Loss : 0.09973866403127876, Time : 360.84273171424866, AP : 0.9655176092914992\n"
     ]
    },
    {
     "name": "stderr",
     "output_type": "stream",
     "text": [
      "Iterating validation dataset: 100%|███████████| 160/160 [00:19<00:00,  8.31it/s]\n",
      "Iterating training dataset: 100%|███████████| 1281/1281 [05:48<00:00,  3.68it/s]\n",
      "Calculating AP: 100%|█████████████████████████| 160/160 [00:19<00:00,  8.28it/s]\n"
     ]
    },
    {
     "name": "stdout",
     "output_type": "stream",
     "text": [
      "Train :rain_9\n",
      "epoch : 9, Train Loss : 0.2154215078576992, Val Loss : 0.45993330907076596, Time : 387.31983947753906, AP : 0.8828516851083572\n"
     ]
    },
    {
     "name": "stderr",
     "output_type": "stream",
     "text": [
      "Iterating validation dataset: 100%|█████████████| 52/52 [00:06<00:00,  8.21it/s]\n",
      "Iterating training dataset: 100%|█████████████| 419/419 [01:54<00:00,  3.67it/s]\n",
      "Calculating AP: 100%|███████████████████████████| 52/52 [00:06<00:00,  8.21it/s]\n"
     ]
    },
    {
     "name": "stdout",
     "output_type": "stream",
     "text": [
      "Train :fog_9\n",
      "epoch : 9, Train Loss : 0.05572534192949178, Val Loss : 0.10928438234931001, Time : 126.92255663871765, AP : 0.9317318786022355\n"
     ]
    },
    {
     "name": "stderr",
     "output_type": "stream",
     "text": [
      "100%|█████████████████████████████████████████| 106/106 [00:07<00:00, 13.40it/s]\n",
      "100%|█████████████████████████████████████████| 321/321 [00:24<00:00, 13.07it/s]\n",
      "100%|█████████████████████████████████████████| 300/300 [00:22<00:00, 13.36it/s]\n"
     ]
    },
    {
     "name": "stdout",
     "output_type": "stream",
     "text": [
      "epoch9_AP:0.8697744870795772\n"
     ]
    },
    {
     "name": "stderr",
     "output_type": "stream",
     "text": [
      "Iterating validation dataset: 100%|███████████| 149/149 [00:17<00:00,  8.32it/s]\n",
      "Iterating training dataset: 100%|███████████| 1194/1194 [05:24<00:00,  3.68it/s]\n",
      "Calculating AP: 100%|█████████████████████████| 149/149 [00:17<00:00,  8.34it/s]\n"
     ]
    },
    {
     "name": "stdout",
     "output_type": "stream",
     "text": [
      "Train :sunny_10\n",
      "epoch : 10, Train Loss : 0.05206925169778504, Val Loss : 0.11737423141380685, Time : 360.50765895843506, AP : 0.9626947781189976\n"
     ]
    },
    {
     "name": "stderr",
     "output_type": "stream",
     "text": [
      "Iterating validation dataset: 100%|███████████| 160/160 [00:19<00:00,  8.32it/s]\n",
      "Iterating training dataset: 100%|███████████| 1281/1281 [05:48<00:00,  3.68it/s]\n",
      "Calculating AP: 100%|█████████████████████████| 160/160 [00:19<00:00,  8.30it/s]\n"
     ]
    },
    {
     "name": "stdout",
     "output_type": "stream",
     "text": [
      "Train :rain_10\n",
      "epoch : 10, Train Loss : 0.20381493232475417, Val Loss : 0.4600280693266541, Time : 387.3865442276001, AP : 0.872598114241014\n"
     ]
    },
    {
     "name": "stderr",
     "output_type": "stream",
     "text": [
      "Iterating validation dataset: 100%|█████████████| 52/52 [00:06<00:00,  8.23it/s]\n",
      "Iterating training dataset: 100%|█████████████| 419/419 [01:54<00:00,  3.67it/s]\n",
      "Calculating AP: 100%|███████████████████████████| 52/52 [00:06<00:00,  8.23it/s]\n"
     ]
    },
    {
     "name": "stdout",
     "output_type": "stream",
     "text": [
      "Train :fog_10\n",
      "epoch : 10, Train Loss : 0.05331505718363142, Val Loss : 0.1178686939036617, Time : 126.82232141494751, AP : 0.941134628772371\n"
     ]
    },
    {
     "name": "stderr",
     "output_type": "stream",
     "text": [
      "100%|█████████████████████████████████████████| 106/106 [00:07<00:00, 13.42it/s]\n",
      "100%|█████████████████████████████████████████| 321/321 [00:24<00:00, 13.06it/s]\n",
      "100%|█████████████████████████████████████████| 300/300 [00:22<00:00, 13.36it/s]\n"
     ]
    },
    {
     "name": "stdout",
     "output_type": "stream",
     "text": [
      "epoch10_AP:0.8744543353836374\n"
     ]
    },
    {
     "name": "stderr",
     "output_type": "stream",
     "text": [
      "Iterating validation dataset: 100%|███████████| 149/149 [00:17<00:00,  8.36it/s]\n",
      "Iterating training dataset: 100%|███████████| 1194/1194 [05:24<00:00,  3.68it/s]\n",
      "Calculating AP: 100%|█████████████████████████| 149/149 [00:17<00:00,  8.35it/s]\n"
     ]
    },
    {
     "name": "stdout",
     "output_type": "stream",
     "text": [
      "Train :sunny_11\n",
      "epoch : 11, Train Loss : 0.04926223996004879, Val Loss : 0.10400455813204883, Time : 360.4569773674011, AP : 0.9522543622577011\n"
     ]
    },
    {
     "name": "stderr",
     "output_type": "stream",
     "text": [
      "Iterating validation dataset: 100%|███████████| 160/160 [00:19<00:00,  8.31it/s]\n",
      "Iterating training dataset: 100%|███████████| 1281/1281 [05:48<00:00,  3.68it/s]\n",
      "Calculating AP: 100%|█████████████████████████| 160/160 [00:19<00:00,  8.29it/s]\n"
     ]
    },
    {
     "name": "stdout",
     "output_type": "stream",
     "text": [
      "Train :rain_11\n",
      "epoch : 11, Train Loss : 0.19391035794729045, Val Loss : 0.4789711714256555, Time : 387.35458612442017, AP : 0.8824365103041067\n"
     ]
    },
    {
     "name": "stderr",
     "output_type": "stream",
     "text": [
      "Iterating validation dataset: 100%|█████████████| 52/52 [00:06<00:00,  8.27it/s]\n",
      "Iterating training dataset: 100%|█████████████| 419/419 [01:54<00:00,  3.67it/s]\n",
      "Calculating AP: 100%|███████████████████████████| 52/52 [00:06<00:00,  8.22it/s]\n"
     ]
    },
    {
     "name": "stdout",
     "output_type": "stream",
     "text": [
      "Train :fog_11\n",
      "epoch : 11, Train Loss : 0.04959567302397868, Val Loss : 0.11041242252283084, Time : 126.91674470901489, AP : 0.9348582896967059\n"
     ]
    },
    {
     "name": "stderr",
     "output_type": "stream",
     "text": [
      "100%|█████████████████████████████████████████| 106/106 [00:07<00:00, 13.38it/s]\n",
      "100%|█████████████████████████████████████████| 321/321 [00:24<00:00, 13.09it/s]\n",
      "100%|█████████████████████████████████████████| 300/300 [00:22<00:00, 13.42it/s]\n"
     ]
    },
    {
     "name": "stdout",
     "output_type": "stream",
     "text": [
      "epoch11_AP:0.8765294906064369\n"
     ]
    },
    {
     "name": "stderr",
     "output_type": "stream",
     "text": [
      "Iterating validation dataset: 100%|███████████| 149/149 [00:17<00:00,  8.36it/s]\n",
      "Iterating training dataset: 100%|███████████| 1194/1194 [05:24<00:00,  3.68it/s]\n",
      "Calculating AP: 100%|█████████████████████████| 149/149 [00:17<00:00,  8.30it/s]\n"
     ]
    },
    {
     "name": "stdout",
     "output_type": "stream",
     "text": [
      "Train :sunny_12\n",
      "epoch : 12, Train Loss : 0.04634177335264969, Val Loss : 0.11170552247172634, Time : 360.6479022502899, AP : 0.9529063501084316\n"
     ]
    },
    {
     "name": "stderr",
     "output_type": "stream",
     "text": [
      "Iterating validation dataset: 100%|███████████| 160/160 [00:19<00:00,  8.29it/s]\n",
      "Iterating training dataset: 100%|███████████| 1281/1281 [05:48<00:00,  3.68it/s]\n",
      "Calculating AP: 100%|█████████████████████████| 160/160 [00:19<00:00,  8.32it/s]\n"
     ]
    },
    {
     "name": "stdout",
     "output_type": "stream",
     "text": [
      "Train :rain_12\n",
      "epoch : 12, Train Loss : 0.18373538998074126, Val Loss : 0.4762931443285197, Time : 387.14696741104126, AP : 0.879148685206963\n"
     ]
    },
    {
     "name": "stderr",
     "output_type": "stream",
     "text": [
      "Iterating validation dataset: 100%|█████████████| 52/52 [00:06<00:00,  8.23it/s]\n",
      "Iterating training dataset: 100%|█████████████| 419/419 [01:54<00:00,  3.66it/s]\n",
      "Calculating AP: 100%|███████████████████████████| 52/52 [00:06<00:00,  8.23it/s]\n"
     ]
    },
    {
     "name": "stdout",
     "output_type": "stream",
     "text": [
      "Train :fog_12\n",
      "epoch : 12, Train Loss : 0.04686730089964154, Val Loss : 0.1221045556728943, Time : 127.02646040916443, AP : 0.939933000432152\n"
     ]
    },
    {
     "name": "stderr",
     "output_type": "stream",
     "text": [
      "100%|█████████████████████████████████████████| 106/106 [00:07<00:00, 13.34it/s]\n",
      "100%|█████████████████████████████████████████| 321/321 [00:24<00:00, 12.93it/s]\n",
      "100%|█████████████████████████████████████████| 300/300 [00:22<00:00, 13.17it/s]\n"
     ]
    },
    {
     "name": "stdout",
     "output_type": "stream",
     "text": [
      "epoch12_AP:0.8814248295854874\n"
     ]
    },
    {
     "name": "stderr",
     "output_type": "stream",
     "text": [
      "Iterating validation dataset: 100%|███████████| 149/149 [00:17<00:00,  8.36it/s]\n",
      "Iterating training dataset: 100%|███████████| 1194/1194 [05:24<00:00,  3.68it/s]\n",
      "Calculating AP: 100%|█████████████████████████| 149/149 [00:17<00:00,  8.33it/s]\n"
     ]
    },
    {
     "name": "stdout",
     "output_type": "stream",
     "text": [
      "Train :sunny_13\n",
      "epoch : 13, Train Loss : 0.044129359452412704, Val Loss : 0.10846243831860339, Time : 360.46762919425964, AP : 0.9503576322131941\n"
     ]
    },
    {
     "name": "stderr",
     "output_type": "stream",
     "text": [
      "Iterating validation dataset: 100%|███████████| 160/160 [00:19<00:00,  8.30it/s]\n",
      "Iterating training dataset: 100%|███████████| 1281/1281 [05:49<00:00,  3.67it/s]\n",
      "Calculating AP: 100%|█████████████████████████| 160/160 [00:19<00:00,  8.31it/s]\n"
     ]
    },
    {
     "name": "stdout",
     "output_type": "stream",
     "text": [
      "Train :rain_13\n",
      "epoch : 13, Train Loss : 0.17497595919297598, Val Loss : 0.46511981217190623, Time : 387.8918504714966, AP : 0.8799959851713677\n"
     ]
    },
    {
     "name": "stderr",
     "output_type": "stream",
     "text": [
      "Iterating validation dataset: 100%|█████████████| 52/52 [00:06<00:00,  8.28it/s]\n",
      "Iterating training dataset: 100%|█████████████| 419/419 [01:54<00:00,  3.67it/s]\n",
      "Calculating AP: 100%|███████████████████████████| 52/52 [00:06<00:00,  8.21it/s]\n"
     ]
    },
    {
     "name": "stdout",
     "output_type": "stream",
     "text": [
      "Train :fog_13\n",
      "epoch : 13, Train Loss : 0.04310779736726267, Val Loss : 0.12039280847574656, Time : 126.92611575126648, AP : 0.9340080907906874\n"
     ]
    },
    {
     "name": "stderr",
     "output_type": "stream",
     "text": [
      "100%|█████████████████████████████████████████| 106/106 [00:07<00:00, 13.30it/s]\n",
      "100%|█████████████████████████████████████████| 321/321 [00:24<00:00, 12.96it/s]\n",
      "100%|█████████████████████████████████████████| 300/300 [00:22<00:00, 13.24it/s]\n"
     ]
    },
    {
     "name": "stdout",
     "output_type": "stream",
     "text": [
      "epoch13_AP:0.8978357882035448\n"
     ]
    },
    {
     "name": "stderr",
     "output_type": "stream",
     "text": [
      "Iterating validation dataset: 100%|███████████| 149/149 [00:17<00:00,  8.35it/s]\n",
      "Iterating training dataset: 100%|███████████| 1194/1194 [05:25<00:00,  3.67it/s]\n",
      "Calculating AP: 100%|█████████████████████████| 149/149 [00:17<00:00,  8.34it/s]\n"
     ]
    },
    {
     "name": "stdout",
     "output_type": "stream",
     "text": [
      "Train :sunny_14\n",
      "epoch : 14, Train Loss : 0.04167344289405936, Val Loss : 0.11515823333530419, Time : 360.8653244972229, AP : 0.9548406667687317\n"
     ]
    },
    {
     "name": "stderr",
     "output_type": "stream",
     "text": [
      "Iterating validation dataset: 100%|███████████| 160/160 [00:19<00:00,  8.33it/s]\n",
      "Iterating training dataset: 100%|███████████| 1281/1281 [05:48<00:00,  3.67it/s]\n",
      "Calculating AP: 100%|█████████████████████████| 160/160 [00:19<00:00,  8.30it/s]\n"
     ]
    },
    {
     "name": "stdout",
     "output_type": "stream",
     "text": [
      "Train :rain_14\n",
      "epoch : 14, Train Loss : 0.16585888056365147, Val Loss : 0.43711981517262755, Time : 387.62228202819824, AP : 0.8829959540149028\n"
     ]
    },
    {
     "name": "stderr",
     "output_type": "stream",
     "text": [
      "Iterating validation dataset: 100%|█████████████| 52/52 [00:06<00:00,  8.26it/s]\n",
      "Iterating training dataset: 100%|█████████████| 419/419 [01:54<00:00,  3.67it/s]\n",
      "Calculating AP: 100%|███████████████████████████| 52/52 [00:06<00:00,  8.21it/s]\n"
     ]
    },
    {
     "name": "stdout",
     "output_type": "stream",
     "text": [
      "Train :fog_14\n",
      "epoch : 14, Train Loss : 0.041437101321459384, Val Loss : 0.12251405503887397, Time : 126.87249207496643, AP : 0.9417890619686773\n"
     ]
    },
    {
     "name": "stderr",
     "output_type": "stream",
     "text": [
      "100%|█████████████████████████████████████████| 106/106 [00:07<00:00, 13.41it/s]\n",
      "100%|█████████████████████████████████████████| 321/321 [00:24<00:00, 13.01it/s]\n",
      "100%|█████████████████████████████████████████| 300/300 [00:22<00:00, 13.36it/s]\n"
     ]
    },
    {
     "name": "stdout",
     "output_type": "stream",
     "text": [
      "epoch14_AP:0.8908654392922202\n"
     ]
    },
    {
     "name": "stderr",
     "output_type": "stream",
     "text": [
      "Iterating validation dataset: 100%|███████████| 149/149 [00:17<00:00,  8.35it/s]\n",
      "Iterating training dataset: 100%|███████████| 1194/1194 [05:24<00:00,  3.68it/s]\n",
      "Calculating AP: 100%|█████████████████████████| 149/149 [00:17<00:00,  8.33it/s]\n"
     ]
    },
    {
     "name": "stdout",
     "output_type": "stream",
     "text": [
      "Train :sunny_15\n",
      "epoch : 15, Train Loss : 0.03960123059996583, Val Loss : 0.1093193439566749, Time : 360.42150688171387, AP : 0.9485250296786312\n"
     ]
    },
    {
     "name": "stderr",
     "output_type": "stream",
     "text": [
      "Iterating validation dataset: 100%|███████████| 160/160 [00:19<00:00,  8.32it/s]\n",
      "Iterating training dataset: 100%|███████████| 1281/1281 [05:48<00:00,  3.67it/s]\n",
      "Calculating AP: 100%|█████████████████████████| 160/160 [00:19<00:00,  8.30it/s]\n"
     ]
    },
    {
     "name": "stdout",
     "output_type": "stream",
     "text": [
      "Train :rain_15\n",
      "epoch : 15, Train Loss : 0.15869937501818662, Val Loss : 0.489825376868248, Time : 387.60723066329956, AP : 0.8872535335337242\n"
     ]
    },
    {
     "name": "stderr",
     "output_type": "stream",
     "text": [
      "Iterating validation dataset: 100%|█████████████| 52/52 [00:06<00:00,  8.26it/s]\n",
      "Iterating training dataset: 100%|█████████████| 419/419 [01:54<00:00,  3.66it/s]\n",
      "Calculating AP: 100%|███████████████████████████| 52/52 [00:06<00:00,  8.22it/s]\n"
     ]
    },
    {
     "name": "stdout",
     "output_type": "stream",
     "text": [
      "Train :fog_15\n",
      "epoch : 15, Train Loss : 0.0390397216502337, Val Loss : 0.11931101888274917, Time : 127.07234263420105, AP : 0.9460309721487157\n"
     ]
    },
    {
     "name": "stderr",
     "output_type": "stream",
     "text": [
      "100%|█████████████████████████████████████████| 106/106 [00:07<00:00, 13.44it/s]\n",
      "100%|█████████████████████████████████████████| 321/321 [00:24<00:00, 13.09it/s]\n",
      "100%|█████████████████████████████████████████| 300/300 [00:22<00:00, 13.34it/s]\n"
     ]
    },
    {
     "name": "stdout",
     "output_type": "stream",
     "text": [
      "epoch15_AP:0.8951692211267286\n"
     ]
    },
    {
     "name": "stderr",
     "output_type": "stream",
     "text": [
      "Iterating validation dataset: 100%|███████████| 149/149 [00:17<00:00,  8.36it/s]\n",
      "Iterating training dataset: 100%|███████████| 1194/1194 [05:24<00:00,  3.67it/s]\n",
      "Calculating AP: 100%|█████████████████████████| 149/149 [00:17<00:00,  8.32it/s]\n"
     ]
    },
    {
     "name": "stdout",
     "output_type": "stream",
     "text": [
      "Train :sunny_16\n",
      "epoch : 16, Train Loss : 0.03728382385427903, Val Loss : 0.1112501061077686, Time : 360.7359251976013, AP : 0.9523007449249228\n"
     ]
    },
    {
     "name": "stderr",
     "output_type": "stream",
     "text": [
      "Iterating validation dataset: 100%|███████████| 160/160 [00:19<00:00,  8.35it/s]\n",
      "Iterating training dataset: 100%|███████████| 1281/1281 [05:48<00:00,  3.67it/s]\n",
      "Calculating AP: 100%|█████████████████████████| 160/160 [00:19<00:00,  8.30it/s]\n"
     ]
    },
    {
     "name": "stdout",
     "output_type": "stream",
     "text": [
      "Train :rain_16\n",
      "epoch : 16, Train Loss : 0.15049278168160407, Val Loss : 0.47785162734799086, Time : 387.79496455192566, AP : 0.8903379501270896\n"
     ]
    },
    {
     "name": "stderr",
     "output_type": "stream",
     "text": [
      "Iterating validation dataset: 100%|█████████████| 52/52 [00:06<00:00,  8.24it/s]\n",
      "Iterating training dataset: 100%|█████████████| 419/419 [01:54<00:00,  3.66it/s]\n",
      "Calculating AP: 100%|███████████████████████████| 52/52 [00:06<00:00,  8.23it/s]\n"
     ]
    },
    {
     "name": "stdout",
     "output_type": "stream",
     "text": [
      "Train :fog_16\n",
      "epoch : 16, Train Loss : 0.03599728465186952, Val Loss : 0.12143370793917431, Time : 127.14153289794922, AP : 0.9438552645319049\n"
     ]
    },
    {
     "name": "stderr",
     "output_type": "stream",
     "text": [
      "100%|█████████████████████████████████████████| 106/106 [00:07<00:00, 13.40it/s]\n",
      "100%|█████████████████████████████████████████| 321/321 [00:24<00:00, 12.88it/s]\n",
      "100%|█████████████████████████████████████████| 300/300 [00:22<00:00, 13.31it/s]\n"
     ]
    },
    {
     "name": "stdout",
     "output_type": "stream",
     "text": [
      "epoch16_AP:0.8988902644837475\n"
     ]
    },
    {
     "name": "stderr",
     "output_type": "stream",
     "text": [
      "Iterating validation dataset: 100%|███████████| 149/149 [00:17<00:00,  8.37it/s]\n",
      "Iterating training dataset: 100%|███████████| 1194/1194 [05:24<00:00,  3.68it/s]\n",
      "Calculating AP: 100%|█████████████████████████| 149/149 [00:17<00:00,  8.34it/s]\n"
     ]
    },
    {
     "name": "stdout",
     "output_type": "stream",
     "text": [
      "Train :sunny_17\n",
      "epoch : 17, Train Loss : 0.035379810566066996, Val Loss : 0.11344619697872424, Time : 360.54520773887634, AP : 0.9483096678817233\n"
     ]
    },
    {
     "name": "stderr",
     "output_type": "stream",
     "text": [
      "Iterating validation dataset: 100%|███████████| 160/160 [00:19<00:00,  8.29it/s]\n",
      "Iterating training dataset: 100%|███████████| 1281/1281 [05:49<00:00,  3.67it/s]\n",
      "Calculating AP: 100%|█████████████████████████| 160/160 [00:19<00:00,  8.26it/s]\n"
     ]
    },
    {
     "name": "stdout",
     "output_type": "stream",
     "text": [
      "Train :rain_17\n",
      "epoch : 17, Train Loss : 0.14257652651821026, Val Loss : 0.5169631108641625, Time : 388.1350977420807, AP : 0.882211764616061\n"
     ]
    },
    {
     "name": "stderr",
     "output_type": "stream",
     "text": [
      "Iterating validation dataset: 100%|█████████████| 52/52 [00:06<00:00,  8.25it/s]\n",
      "Iterating training dataset: 100%|█████████████| 419/419 [01:54<00:00,  3.66it/s]\n",
      "Calculating AP: 100%|███████████████████████████| 52/52 [00:06<00:00,  8.21it/s]\n"
     ]
    },
    {
     "name": "stdout",
     "output_type": "stream",
     "text": [
      "Train :fog_17\n",
      "epoch : 17, Train Loss : 0.0338207933604984, Val Loss : 0.11871424986300273, Time : 127.10493516921997, AP : 0.9463425173585986\n"
     ]
    },
    {
     "name": "stderr",
     "output_type": "stream",
     "text": [
      "100%|█████████████████████████████████████████| 106/106 [00:07<00:00, 13.55it/s]\n",
      "100%|█████████████████████████████████████████| 321/321 [00:24<00:00, 12.94it/s]\n",
      "100%|█████████████████████████████████████████| 300/300 [00:22<00:00, 13.27it/s]\n"
     ]
    },
    {
     "name": "stdout",
     "output_type": "stream",
     "text": [
      "epoch17_AP:0.8933229987090732\n"
     ]
    },
    {
     "name": "stderr",
     "output_type": "stream",
     "text": [
      "Iterating validation dataset: 100%|███████████| 149/149 [00:17<00:00,  8.35it/s]\n",
      "Iterating training dataset: 100%|███████████| 1194/1194 [05:24<00:00,  3.68it/s]\n",
      "Calculating AP: 100%|█████████████████████████| 149/149 [00:17<00:00,  8.32it/s]\n"
     ]
    },
    {
     "name": "stdout",
     "output_type": "stream",
     "text": [
      "Train :sunny_18\n",
      "epoch : 18, Train Loss : 0.032723154196393996, Val Loss : 0.11849523569463484, Time : 360.71673822402954, AP : 0.9454434778118745\n"
     ]
    },
    {
     "name": "stderr",
     "output_type": "stream",
     "text": [
      "Iterating validation dataset: 100%|███████████| 160/160 [00:19<00:00,  8.30it/s]\n",
      "Iterating training dataset: 100%|███████████| 1281/1281 [05:49<00:00,  3.67it/s]\n",
      "Calculating AP: 100%|█████████████████████████| 160/160 [00:19<00:00,  8.28it/s]\n"
     ]
    },
    {
     "name": "stdout",
     "output_type": "stream",
     "text": [
      "Train :rain_18\n",
      "epoch : 18, Train Loss : 0.13596752330596842, Val Loss : 0.4721094922628254, Time : 387.96537828445435, AP : 0.8800331640850354\n"
     ]
    },
    {
     "name": "stderr",
     "output_type": "stream",
     "text": [
      "Iterating validation dataset: 100%|█████████████| 52/52 [00:06<00:00,  8.26it/s]\n",
      "Iterating training dataset: 100%|█████████████| 419/419 [01:54<00:00,  3.66it/s]\n",
      "Calculating AP: 100%|███████████████████████████| 52/52 [00:06<00:00,  8.23it/s]\n"
     ]
    },
    {
     "name": "stdout",
     "output_type": "stream",
     "text": [
      "Train :fog_18\n",
      "epoch : 18, Train Loss : 0.0315368978966801, Val Loss : 0.13865870935842395, Time : 127.09337854385376, AP : 0.938883787471056\n"
     ]
    },
    {
     "name": "stderr",
     "output_type": "stream",
     "text": [
      "100%|█████████████████████████████████████████| 106/106 [00:07<00:00, 13.41it/s]\n",
      "100%|█████████████████████████████████████████| 321/321 [00:24<00:00, 13.09it/s]\n",
      "100%|█████████████████████████████████████████| 300/300 [00:22<00:00, 13.34it/s]\n"
     ]
    },
    {
     "name": "stdout",
     "output_type": "stream",
     "text": [
      "epoch18_AP:0.8901742296025628\n"
     ]
    },
    {
     "name": "stderr",
     "output_type": "stream",
     "text": [
      "Iterating validation dataset: 100%|███████████| 149/149 [00:17<00:00,  8.37it/s]\n",
      "Iterating training dataset: 100%|███████████| 1194/1194 [05:24<00:00,  3.68it/s]\n",
      "Calculating AP: 100%|█████████████████████████| 149/149 [00:17<00:00,  8.34it/s]\n"
     ]
    },
    {
     "name": "stdout",
     "output_type": "stream",
     "text": [
      "Train :sunny_19\n",
      "epoch : 19, Train Loss : 0.03182735366955824, Val Loss : 0.12302509083993883, Time : 360.55534839630127, AP : 0.9485612716616281\n"
     ]
    },
    {
     "name": "stderr",
     "output_type": "stream",
     "text": [
      "Iterating validation dataset: 100%|███████████| 160/160 [00:19<00:00,  8.32it/s]\n",
      "Iterating training dataset: 100%|███████████| 1281/1281 [05:48<00:00,  3.67it/s]\n",
      "Calculating AP: 100%|█████████████████████████| 160/160 [00:19<00:00,  8.31it/s]\n"
     ]
    },
    {
     "name": "stdout",
     "output_type": "stream",
     "text": [
      "Train :rain_19\n",
      "epoch : 19, Train Loss : 0.12981767455373283, Val Loss : 0.5209217741154134, Time : 387.5993323326111, AP : 0.874624508909617\n"
     ]
    },
    {
     "name": "stderr",
     "output_type": "stream",
     "text": [
      "Iterating validation dataset: 100%|█████████████| 52/52 [00:06<00:00,  8.24it/s]\n",
      "Iterating training dataset: 100%|█████████████| 419/419 [01:54<00:00,  3.66it/s]\n",
      "Calculating AP: 100%|███████████████████████████| 52/52 [00:06<00:00,  8.23it/s]\n"
     ]
    },
    {
     "name": "stdout",
     "output_type": "stream",
     "text": [
      "Train :fog_19\n",
      "epoch : 19, Train Loss : 0.03020954949932444, Val Loss : 0.12931925427311888, Time : 127.03837490081787, AP : 0.9449457340804293\n"
     ]
    },
    {
     "name": "stderr",
     "output_type": "stream",
     "text": [
      "100%|█████████████████████████████████████████| 106/106 [00:07<00:00, 13.38it/s]\n",
      "100%|█████████████████████████████████████████| 321/321 [00:24<00:00, 12.94it/s]\n",
      "100%|█████████████████████████████████████████| 300/300 [00:22<00:00, 13.23it/s]\n"
     ]
    },
    {
     "name": "stdout",
     "output_type": "stream",
     "text": [
      "epoch19_AP:0.8899579826866315\n"
     ]
    },
    {
     "name": "stderr",
     "output_type": "stream",
     "text": [
      "Iterating validation dataset: 100%|███████████| 149/149 [00:17<00:00,  8.35it/s]\n",
      "Iterating training dataset: 100%|███████████| 1194/1194 [05:24<00:00,  3.68it/s]\n",
      "Calculating AP: 100%|█████████████████████████| 149/149 [00:17<00:00,  8.33it/s]\n"
     ]
    },
    {
     "name": "stdout",
     "output_type": "stream",
     "text": [
      "Train :sunny_20\n",
      "epoch : 20, Train Loss : 0.03059163450737682, Val Loss : 0.11806423512081173, Time : 360.3031952381134, AP : 0.9491104628798297\n"
     ]
    },
    {
     "name": "stderr",
     "output_type": "stream",
     "text": [
      "Iterating validation dataset: 100%|███████████| 160/160 [00:19<00:00,  8.34it/s]\n",
      "Iterating training dataset: 100%|███████████| 1281/1281 [05:48<00:00,  3.67it/s]\n",
      "Calculating AP: 100%|█████████████████████████| 160/160 [00:19<00:00,  8.30it/s]\n"
     ]
    },
    {
     "name": "stdout",
     "output_type": "stream",
     "text": [
      "Train :rain_20\n",
      "epoch : 20, Train Loss : 0.1242126888951038, Val Loss : 0.5020250568166376, Time : 387.64313197135925, AP : 0.8800835317889293\n"
     ]
    },
    {
     "name": "stderr",
     "output_type": "stream",
     "text": [
      "Iterating validation dataset: 100%|█████████████| 52/52 [00:06<00:00,  8.27it/s]\n",
      "Iterating training dataset: 100%|█████████████| 419/419 [01:54<00:00,  3.66it/s]\n",
      "Calculating AP: 100%|███████████████████████████| 52/52 [00:06<00:00,  8.23it/s]\n"
     ]
    },
    {
     "name": "stdout",
     "output_type": "stream",
     "text": [
      "Train :fog_20\n",
      "epoch : 20, Train Loss : 0.02848585572444916, Val Loss : 0.13165085014099112, Time : 126.99035859107971, AP : 0.9470857792308474\n"
     ]
    },
    {
     "name": "stderr",
     "output_type": "stream",
     "text": [
      "100%|█████████████████████████████████████████| 106/106 [00:07<00:00, 13.40it/s]\n",
      "100%|█████████████████████████████████████████| 321/321 [00:24<00:00, 13.06it/s]\n",
      "100%|█████████████████████████████████████████| 300/300 [00:22<00:00, 13.37it/s]\n"
     ]
    },
    {
     "name": "stdout",
     "output_type": "stream",
     "text": [
      "epoch20_AP:0.8978919044613667\n"
     ]
    },
    {
     "name": "stderr",
     "output_type": "stream",
     "text": [
      "Iterating validation dataset: 100%|███████████| 149/149 [00:17<00:00,  8.31it/s]\n",
      "Iterating training dataset: 100%|███████████| 1194/1194 [05:24<00:00,  3.68it/s]\n",
      "Calculating AP: 100%|█████████████████████████| 149/149 [00:17<00:00,  8.33it/s]\n"
     ]
    },
    {
     "name": "stdout",
     "output_type": "stream",
     "text": [
      "Train :sunny_21\n",
      "epoch : 21, Train Loss : 0.029295683512776168, Val Loss : 0.11848826420762194, Time : 360.6605715751648, AP : 0.945451362123908\n"
     ]
    },
    {
     "name": "stderr",
     "output_type": "stream",
     "text": [
      "Iterating validation dataset: 100%|███████████| 160/160 [00:19<00:00,  8.34it/s]\n",
      "Iterating training dataset: 100%|███████████| 1281/1281 [05:48<00:00,  3.67it/s]\n",
      "Calculating AP: 100%|█████████████████████████| 160/160 [00:19<00:00,  8.28it/s]\n"
     ]
    },
    {
     "name": "stdout",
     "output_type": "stream",
     "text": [
      "Train :rain_21\n",
      "epoch : 21, Train Loss : 0.11833735689983226, Val Loss : 0.4880542112980038, Time : 387.81727862358093, AP : 0.8895371553344997\n"
     ]
    },
    {
     "name": "stderr",
     "output_type": "stream",
     "text": [
      "Iterating validation dataset: 100%|█████████████| 52/52 [00:06<00:00,  8.25it/s]\n",
      "Iterating training dataset: 100%|█████████████| 419/419 [01:54<00:00,  3.66it/s]\n",
      "Calculating AP: 100%|███████████████████████████| 52/52 [00:06<00:00,  8.20it/s]\n"
     ]
    },
    {
     "name": "stdout",
     "output_type": "stream",
     "text": [
      "Train :fog_21\n",
      "epoch : 21, Train Loss : 0.02656656439996242, Val Loss : 0.12389699065198119, Time : 127.1322808265686, AP : 0.9484665203521558\n"
     ]
    },
    {
     "name": "stderr",
     "output_type": "stream",
     "text": [
      "100%|█████████████████████████████████████████| 106/106 [00:07<00:00, 13.39it/s]\n",
      "100%|█████████████████████████████████████████| 321/321 [00:24<00:00, 13.09it/s]\n",
      "100%|█████████████████████████████████████████| 300/300 [00:22<00:00, 13.35it/s]\n"
     ]
    },
    {
     "name": "stdout",
     "output_type": "stream",
     "text": [
      "epoch21_AP:0.9003502191431227\n"
     ]
    },
    {
     "name": "stderr",
     "output_type": "stream",
     "text": [
      "Iterating validation dataset: 100%|███████████| 149/149 [00:17<00:00,  8.36it/s]\n",
      "Iterating training dataset: 100%|███████████| 1194/1194 [05:24<00:00,  3.68it/s]\n",
      "Calculating AP: 100%|█████████████████████████| 149/149 [00:17<00:00,  8.33it/s]\n"
     ]
    },
    {
     "name": "stdout",
     "output_type": "stream",
     "text": [
      "Train :sunny_22\n",
      "epoch : 22, Train Loss : 0.027385867183241788, Val Loss : 0.1198727338193547, Time : 360.4865083694458, AP : 0.9485878104092791\n"
     ]
    },
    {
     "name": "stderr",
     "output_type": "stream",
     "text": [
      "Iterating validation dataset: 100%|███████████| 160/160 [00:19<00:00,  8.34it/s]\n",
      "Iterating training dataset: 100%|███████████| 1281/1281 [05:49<00:00,  3.67it/s]\n",
      "Calculating AP: 100%|█████████████████████████| 160/160 [00:19<00:00,  8.31it/s]\n"
     ]
    },
    {
     "name": "stdout",
     "output_type": "stream",
     "text": [
      "Train :rain_22\n",
      "epoch : 22, Train Loss : 0.11394161841076719, Val Loss : 0.5218695880612358, Time : 388.0343265533447, AP : 0.8877122721580264\n"
     ]
    },
    {
     "name": "stderr",
     "output_type": "stream",
     "text": [
      "Iterating validation dataset: 100%|█████████████| 52/52 [00:06<00:00,  8.24it/s]\n",
      "Iterating training dataset: 100%|█████████████| 419/419 [01:54<00:00,  3.66it/s]\n",
      "Calculating AP: 100%|███████████████████████████| 52/52 [00:06<00:00,  8.24it/s]\n"
     ]
    },
    {
     "name": "stdout",
     "output_type": "stream",
     "text": [
      "Train :fog_22\n",
      "epoch : 22, Train Loss : 0.02567186703914354, Val Loss : 0.12901810694557542, Time : 127.13182497024536, AP : 0.9462776738150609\n"
     ]
    },
    {
     "name": "stderr",
     "output_type": "stream",
     "text": [
      "100%|█████████████████████████████████████████| 106/106 [00:07<00:00, 13.39it/s]\n",
      "100%|█████████████████████████████████████████| 321/321 [00:24<00:00, 12.99it/s]\n",
      "100%|█████████████████████████████████████████| 300/300 [00:22<00:00, 13.27it/s]\n"
     ]
    },
    {
     "name": "stdout",
     "output_type": "stream",
     "text": [
      "epoch22_AP:0.8966486886956275\n"
     ]
    },
    {
     "name": "stderr",
     "output_type": "stream",
     "text": [
      "Iterating validation dataset: 100%|███████████| 149/149 [00:17<00:00,  8.37it/s]\n",
      "Iterating training dataset: 100%|███████████| 1194/1194 [05:24<00:00,  3.68it/s]\n",
      "Calculating AP: 100%|█████████████████████████| 149/149 [00:17<00:00,  8.34it/s]\n"
     ]
    },
    {
     "name": "stdout",
     "output_type": "stream",
     "text": [
      "Train :sunny_23\n",
      "epoch : 23, Train Loss : 0.026265759153644146, Val Loss : 0.11953264016708072, Time : 360.60708022117615, AP : 0.9443336095639836\n"
     ]
    },
    {
     "name": "stderr",
     "output_type": "stream",
     "text": [
      "Iterating validation dataset: 100%|███████████| 160/160 [00:19<00:00,  8.31it/s]\n",
      "Iterating training dataset: 100%|███████████| 1281/1281 [05:49<00:00,  3.67it/s]\n",
      "Calculating AP: 100%|█████████████████████████| 160/160 [00:19<00:00,  8.31it/s]\n"
     ]
    },
    {
     "name": "stdout",
     "output_type": "stream",
     "text": [
      "Train :rain_23\n",
      "epoch : 23, Train Loss : 0.10942054153503639, Val Loss : 0.4861036868300289, Time : 388.2148628234863, AP : 0.8820028616671909\n"
     ]
    },
    {
     "name": "stderr",
     "output_type": "stream",
     "text": [
      "Iterating validation dataset: 100%|█████████████| 52/52 [00:06<00:00,  8.21it/s]\n",
      "Iterating training dataset: 100%|█████████████| 419/419 [01:54<00:00,  3.66it/s]\n",
      "Calculating AP: 100%|███████████████████████████| 52/52 [00:06<00:00,  8.20it/s]\n"
     ]
    },
    {
     "name": "stdout",
     "output_type": "stream",
     "text": [
      "Train :fog_23\n",
      "epoch : 23, Train Loss : 0.024149427240434368, Val Loss : 0.13783357182266906, Time : 127.26827907562256, AP : 0.9486956542307787\n"
     ]
    },
    {
     "name": "stderr",
     "output_type": "stream",
     "text": [
      "100%|█████████████████████████████████████████| 106/106 [00:07<00:00, 13.41it/s]\n",
      "100%|█████████████████████████████████████████| 321/321 [00:24<00:00, 13.04it/s]\n",
      "100%|█████████████████████████████████████████| 300/300 [00:22<00:00, 13.36it/s]\n"
     ]
    },
    {
     "name": "stdout",
     "output_type": "stream",
     "text": [
      "epoch23_AP:0.9020100905624799\n"
     ]
    },
    {
     "name": "stderr",
     "output_type": "stream",
     "text": [
      "Iterating validation dataset: 100%|███████████| 149/149 [00:17<00:00,  8.36it/s]\n",
      "Iterating training dataset: 100%|███████████| 1194/1194 [05:24<00:00,  3.67it/s]\n",
      "Calculating AP: 100%|█████████████████████████| 149/149 [00:17<00:00,  8.31it/s]\n"
     ]
    },
    {
     "name": "stdout",
     "output_type": "stream",
     "text": [
      "Train :sunny_24\n",
      "epoch : 24, Train Loss : 0.024897209046505255, Val Loss : 0.12022804710138964, Time : 360.73882246017456, AP : 0.9492591473548373\n"
     ]
    },
    {
     "name": "stderr",
     "output_type": "stream",
     "text": [
      "Iterating validation dataset: 100%|███████████| 160/160 [00:19<00:00,  8.30it/s]\n",
      "Iterating training dataset: 100%|███████████| 1281/1281 [05:49<00:00,  3.67it/s]\n",
      "Calculating AP: 100%|█████████████████████████| 160/160 [00:19<00:00,  8.31it/s]\n"
     ]
    },
    {
     "name": "stdout",
     "output_type": "stream",
     "text": [
      "Train :rain_24\n",
      "epoch : 24, Train Loss : 0.10462672355062068, Val Loss : 0.45107639257330445, Time : 388.1763641834259, AP : 0.8785777787856972\n"
     ]
    },
    {
     "name": "stderr",
     "output_type": "stream",
     "text": [
      "Iterating validation dataset: 100%|█████████████| 52/52 [00:06<00:00,  8.26it/s]\n",
      "Iterating training dataset: 100%|█████████████| 419/419 [01:54<00:00,  3.66it/s]\n",
      "Calculating AP: 100%|███████████████████████████| 52/52 [00:06<00:00,  8.22it/s]\n"
     ]
    },
    {
     "name": "stdout",
     "output_type": "stream",
     "text": [
      "Train :fog_24\n",
      "epoch : 24, Train Loss : 0.022559021668495313, Val Loss : 0.1339412883300191, Time : 127.20465970039368, AP : 0.949157787129467\n"
     ]
    },
    {
     "name": "stderr",
     "output_type": "stream",
     "text": [
      "100%|█████████████████████████████████████████| 106/106 [00:08<00:00, 13.23it/s]\n",
      "100%|█████████████████████████████████████████| 321/321 [00:24<00:00, 13.02it/s]\n",
      "100%|█████████████████████████████████████████| 300/300 [00:22<00:00, 13.27it/s]\n"
     ]
    },
    {
     "name": "stdout",
     "output_type": "stream",
     "text": [
      "epoch24_AP:0.8989892476570267\n"
     ]
    },
    {
     "name": "stderr",
     "output_type": "stream",
     "text": [
      "Iterating validation dataset: 100%|███████████| 149/149 [00:17<00:00,  8.33it/s]\n",
      "Iterating training dataset: 100%|███████████| 1194/1194 [05:24<00:00,  3.68it/s]\n",
      "Calculating AP: 100%|█████████████████████████| 149/149 [00:17<00:00,  8.28it/s]\n"
     ]
    },
    {
     "name": "stdout",
     "output_type": "stream",
     "text": [
      "Train :sunny_25\n",
      "epoch : 25, Train Loss : 0.023772271968957842, Val Loss : 0.12328137674887708, Time : 360.7918848991394, AP : 0.9516194598426857\n"
     ]
    },
    {
     "name": "stderr",
     "output_type": "stream",
     "text": [
      "Iterating validation dataset: 100%|███████████| 160/160 [00:19<00:00,  8.32it/s]\n",
      "Iterating training dataset: 100%|███████████| 1281/1281 [05:49<00:00,  3.67it/s]\n",
      "Calculating AP: 100%|█████████████████████████| 160/160 [00:19<00:00,  8.29it/s]\n"
     ]
    },
    {
     "name": "stdout",
     "output_type": "stream",
     "text": [
      "Train :rain_25\n",
      "epoch : 25, Train Loss : 0.09904391316596671, Val Loss : 0.49074585079215466, Time : 387.9506902694702, AP : 0.8875979445851421\n"
     ]
    },
    {
     "name": "stderr",
     "output_type": "stream",
     "text": [
      "Iterating validation dataset: 100%|█████████████| 52/52 [00:06<00:00,  8.23it/s]\n",
      "Iterating training dataset: 100%|█████████████| 419/419 [01:54<00:00,  3.66it/s]\n",
      "Calculating AP: 100%|███████████████████████████| 52/52 [00:06<00:00,  8.16it/s]\n"
     ]
    },
    {
     "name": "stdout",
     "output_type": "stream",
     "text": [
      "Train :fog_25\n",
      "epoch : 25, Train Loss : 0.02187651593509288, Val Loss : 0.12663177576345894, Time : 127.24129915237427, AP : 0.946685260616789\n"
     ]
    },
    {
     "name": "stderr",
     "output_type": "stream",
     "text": [
      "100%|█████████████████████████████████████████| 106/106 [00:07<00:00, 13.27it/s]\n",
      "100%|█████████████████████████████████████████| 321/321 [00:24<00:00, 13.10it/s]\n",
      "100%|█████████████████████████████████████████| 300/300 [00:22<00:00, 13.41it/s]\n"
     ]
    },
    {
     "name": "stdout",
     "output_type": "stream",
     "text": [
      "epoch25_AP:0.894638243791162\n"
     ]
    },
    {
     "name": "stderr",
     "output_type": "stream",
     "text": [
      "Iterating validation dataset: 100%|███████████| 149/149 [00:17<00:00,  8.37it/s]\n",
      "Iterating training dataset: 100%|███████████| 1194/1194 [05:24<00:00,  3.68it/s]\n",
      "Calculating AP: 100%|█████████████████████████| 149/149 [00:17<00:00,  8.33it/s]\n"
     ]
    },
    {
     "name": "stdout",
     "output_type": "stream",
     "text": [
      "Train :sunny_26\n",
      "epoch : 26, Train Loss : 0.022825715903284798, Val Loss : 0.12734110607146817, Time : 360.5180184841156, AP : 0.9402094819653852\n"
     ]
    },
    {
     "name": "stderr",
     "output_type": "stream",
     "text": [
      "Iterating validation dataset: 100%|███████████| 160/160 [00:19<00:00,  8.30it/s]\n",
      "Iterating training dataset: 100%|███████████| 1281/1281 [05:49<00:00,  3.67it/s]\n",
      "Calculating AP: 100%|█████████████████████████| 160/160 [00:19<00:00,  8.30it/s]\n"
     ]
    },
    {
     "name": "stdout",
     "output_type": "stream",
     "text": [
      "Train :rain_26\n",
      "epoch : 26, Train Loss : 0.09678272223339986, Val Loss : 0.4874681546818465, Time : 387.9286243915558, AP : 0.8720733589708924\n"
     ]
    },
    {
     "name": "stderr",
     "output_type": "stream",
     "text": [
      "Iterating validation dataset: 100%|█████████████| 52/52 [00:06<00:00,  8.25it/s]\n",
      "Iterating training dataset: 100%|█████████████| 419/419 [01:54<00:00,  3.66it/s]\n",
      "Calculating AP: 100%|███████████████████████████| 52/52 [00:06<00:00,  8.21it/s]\n"
     ]
    },
    {
     "name": "stdout",
     "output_type": "stream",
     "text": [
      "Train :fog_26\n",
      "epoch : 26, Train Loss : 0.02113496004948326, Val Loss : 0.1317182767760152, Time : 127.13718056678772, AP : 0.9449125718224085\n"
     ]
    },
    {
     "name": "stderr",
     "output_type": "stream",
     "text": [
      "100%|█████████████████████████████████████████| 106/106 [00:07<00:00, 13.34it/s]\n",
      "100%|█████████████████████████████████████████| 321/321 [00:24<00:00, 13.06it/s]\n",
      "100%|█████████████████████████████████████████| 300/300 [00:22<00:00, 13.35it/s]\n"
     ]
    },
    {
     "name": "stdout",
     "output_type": "stream",
     "text": [
      "epoch26_AP:0.8981576982345869\n"
     ]
    },
    {
     "name": "stderr",
     "output_type": "stream",
     "text": [
      "Iterating validation dataset: 100%|███████████| 149/149 [00:17<00:00,  8.32it/s]\n",
      "Iterating training dataset: 100%|███████████| 1194/1194 [05:24<00:00,  3.68it/s]\n",
      "Calculating AP: 100%|█████████████████████████| 149/149 [00:17<00:00,  8.30it/s]\n"
     ]
    },
    {
     "name": "stdout",
     "output_type": "stream",
     "text": [
      "Train :sunny_27\n",
      "epoch : 27, Train Loss : 0.022023550696496287, Val Loss : 0.12450709017056147, Time : 360.60601592063904, AP : 0.9414622505850652\n"
     ]
    },
    {
     "name": "stderr",
     "output_type": "stream",
     "text": [
      "Iterating validation dataset: 100%|███████████| 160/160 [00:19<00:00,  8.32it/s]\n",
      "Iterating training dataset: 100%|███████████| 1281/1281 [05:49<00:00,  3.67it/s]\n",
      "Calculating AP: 100%|█████████████████████████| 160/160 [00:19<00:00,  8.28it/s]\n"
     ]
    },
    {
     "name": "stdout",
     "output_type": "stream",
     "text": [
      "Train :rain_27\n",
      "epoch : 27, Train Loss : 0.09212293685831938, Val Loss : 0.4929701612796634, Time : 388.05647468566895, AP : 0.8756725366734255\n"
     ]
    },
    {
     "name": "stderr",
     "output_type": "stream",
     "text": [
      "Iterating validation dataset: 100%|█████████████| 52/52 [00:06<00:00,  8.22it/s]\n",
      "Iterating training dataset: 100%|█████████████| 419/419 [01:54<00:00,  3.66it/s]\n",
      "Calculating AP: 100%|███████████████████████████| 52/52 [00:06<00:00,  8.21it/s]\n"
     ]
    },
    {
     "name": "stdout",
     "output_type": "stream",
     "text": [
      "Train :fog_27\n",
      "epoch : 27, Train Loss : 0.020939110129235893, Val Loss : 0.1414349682879849, Time : 127.17498660087585, AP : 0.9485494471641998\n"
     ]
    },
    {
     "name": "stderr",
     "output_type": "stream",
     "text": [
      "100%|█████████████████████████████████████████| 106/106 [00:07<00:00, 13.31it/s]\n",
      "100%|█████████████████████████████████████████| 321/321 [00:24<00:00, 13.02it/s]\n",
      "100%|█████████████████████████████████████████| 300/300 [00:22<00:00, 13.31it/s]\n"
     ]
    },
    {
     "name": "stdout",
     "output_type": "stream",
     "text": [
      "epoch27_AP:0.8962316063500722\n"
     ]
    },
    {
     "name": "stderr",
     "output_type": "stream",
     "text": [
      "Iterating validation dataset: 100%|███████████| 149/149 [00:17<00:00,  8.37it/s]\n",
      "Iterating training dataset: 100%|███████████| 1194/1194 [05:24<00:00,  3.68it/s]\n",
      "Calculating AP: 100%|█████████████████████████| 149/149 [00:17<00:00,  8.33it/s]\n"
     ]
    },
    {
     "name": "stdout",
     "output_type": "stream",
     "text": [
      "Train :sunny_28\n",
      "epoch : 28, Train Loss : 0.021186897941432907, Val Loss : 0.1298801888205461, Time : 360.6257236003876, AP : 0.9414496372329024\n"
     ]
    },
    {
     "name": "stderr",
     "output_type": "stream",
     "text": [
      "Iterating validation dataset: 100%|███████████| 160/160 [00:19<00:00,  8.31it/s]\n",
      "Iterating training dataset: 100%|███████████| 1281/1281 [05:49<00:00,  3.67it/s]\n",
      "Calculating AP: 100%|█████████████████████████| 160/160 [00:19<00:00,  8.31it/s]\n"
     ]
    },
    {
     "name": "stdout",
     "output_type": "stream",
     "text": [
      "Train :rain_28\n",
      "epoch : 28, Train Loss : 0.08904630298072663, Val Loss : 0.48122540866024793, Time : 387.92650270462036, AP : 0.8775568852910816\n"
     ]
    },
    {
     "name": "stderr",
     "output_type": "stream",
     "text": [
      "Iterating validation dataset: 100%|█████████████| 52/52 [00:06<00:00,  8.25it/s]\n",
      "Iterating training dataset: 100%|█████████████| 419/419 [01:54<00:00,  3.66it/s]\n",
      "Calculating AP: 100%|███████████████████████████| 52/52 [00:06<00:00,  8.22it/s]\n"
     ]
    },
    {
     "name": "stdout",
     "output_type": "stream",
     "text": [
      "Train :fog_28\n",
      "epoch : 28, Train Loss : 0.02111010421523135, Val Loss : 0.1394326503102023, Time : 127.13106775283813, AP : 0.93320701973028\n"
     ]
    },
    {
     "name": "stderr",
     "output_type": "stream",
     "text": [
      "100%|█████████████████████████████████████████| 106/106 [00:08<00:00, 13.22it/s]\n",
      "100%|█████████████████████████████████████████| 321/321 [00:24<00:00, 12.97it/s]\n",
      "100%|█████████████████████████████████████████| 300/300 [00:22<00:00, 13.27it/s]\n"
     ]
    },
    {
     "name": "stdout",
     "output_type": "stream",
     "text": [
      "epoch28_AP:0.8921363133181908\n"
     ]
    },
    {
     "name": "stderr",
     "output_type": "stream",
     "text": [
      "Iterating validation dataset: 100%|███████████| 149/149 [00:17<00:00,  8.34it/s]\n",
      "Iterating training dataset: 100%|███████████| 1194/1194 [05:24<00:00,  3.68it/s]\n",
      "Calculating AP: 100%|█████████████████████████| 149/149 [00:17<00:00,  8.34it/s]\n"
     ]
    },
    {
     "name": "stdout",
     "output_type": "stream",
     "text": [
      "Train :sunny_29\n",
      "epoch : 29, Train Loss : 0.020691494804914647, Val Loss : 0.13595650657611405, Time : 360.27065348625183, AP : 0.9427287305569241\n"
     ]
    },
    {
     "name": "stderr",
     "output_type": "stream",
     "text": [
      "Iterating validation dataset: 100%|███████████| 160/160 [00:19<00:00,  8.33it/s]\n",
      "Iterating training dataset: 100%|███████████| 1281/1281 [05:49<00:00,  3.67it/s]\n",
      "Calculating AP: 100%|█████████████████████████| 160/160 [00:19<00:00,  8.30it/s]\n"
     ]
    },
    {
     "name": "stdout",
     "output_type": "stream",
     "text": [
      "Train :rain_29\n",
      "epoch : 29, Train Loss : 0.08632823083096072, Val Loss : 0.5047050603898242, Time : 388.1785056591034, AP : 0.8864247227547422\n"
     ]
    },
    {
     "name": "stderr",
     "output_type": "stream",
     "text": [
      "Iterating validation dataset: 100%|█████████████| 52/52 [00:06<00:00,  8.27it/s]\n",
      "Iterating training dataset: 100%|█████████████| 419/419 [01:54<00:00,  3.66it/s]\n",
      "Calculating AP: 100%|███████████████████████████| 52/52 [00:06<00:00,  8.21it/s]\n"
     ]
    },
    {
     "name": "stdout",
     "output_type": "stream",
     "text": [
      "Train :fog_29\n",
      "epoch : 29, Train Loss : 0.019578710641280743, Val Loss : 0.13599929805451, Time : 127.21740102767944, AP : 0.9493786416501564\n"
     ]
    },
    {
     "name": "stderr",
     "output_type": "stream",
     "text": [
      "100%|█████████████████████████████████████████| 106/106 [00:07<00:00, 13.29it/s]\n",
      "100%|█████████████████████████████████████████| 321/321 [00:24<00:00, 12.91it/s]\n",
      "100%|█████████████████████████████████████████| 300/300 [00:22<00:00, 13.22it/s]\n"
     ]
    },
    {
     "name": "stdout",
     "output_type": "stream",
     "text": [
      "epoch29_AP:0.893735568257227\n"
     ]
    },
    {
     "name": "stderr",
     "output_type": "stream",
     "text": [
      "Iterating validation dataset: 100%|███████████| 149/149 [00:17<00:00,  8.35it/s]\n",
      "Iterating training dataset: 100%|███████████| 1194/1194 [05:24<00:00,  3.68it/s]\n",
      "Calculating AP: 100%|█████████████████████████| 149/149 [00:17<00:00,  8.34it/s]\n"
     ]
    },
    {
     "name": "stdout",
     "output_type": "stream",
     "text": [
      "Train :sunny_30\n",
      "epoch : 30, Train Loss : 0.019581075875522255, Val Loss : 0.1381531809425394, Time : 360.5238199234009, AP : 0.947344625025563\n"
     ]
    },
    {
     "name": "stderr",
     "output_type": "stream",
     "text": [
      "Iterating validation dataset: 100%|███████████| 160/160 [00:19<00:00,  8.35it/s]\n",
      "Iterating training dataset: 100%|███████████| 1281/1281 [05:49<00:00,  3.67it/s]\n",
      "Calculating AP: 100%|█████████████████████████| 160/160 [00:19<00:00,  8.30it/s]\n"
     ]
    },
    {
     "name": "stdout",
     "output_type": "stream",
     "text": [
      "Train :rain_30\n",
      "epoch : 30, Train Loss : 0.08213199407609643, Val Loss : 0.5035438851453364, Time : 388.0277683734894, AP : 0.883835685122647\n"
     ]
    },
    {
     "name": "stderr",
     "output_type": "stream",
     "text": [
      "Iterating validation dataset: 100%|█████████████| 52/52 [00:06<00:00,  8.23it/s]\n",
      "Iterating training dataset: 100%|█████████████| 419/419 [01:54<00:00,  3.66it/s]\n",
      "Calculating AP: 100%|███████████████████████████| 52/52 [00:06<00:00,  8.21it/s]\n"
     ]
    },
    {
     "name": "stdout",
     "output_type": "stream",
     "text": [
      "Train :fog_30\n",
      "epoch : 30, Train Loss : 0.019286159744935204, Val Loss : 0.13439775122186312, Time : 127.21430659294128, AP : 0.9461200847704987\n"
     ]
    },
    {
     "name": "stderr",
     "output_type": "stream",
     "text": [
      "100%|█████████████████████████████████████████| 106/106 [00:07<00:00, 13.32it/s]\n",
      "100%|█████████████████████████████████████████| 321/321 [00:24<00:00, 13.12it/s]\n",
      "100%|█████████████████████████████████████████| 300/300 [00:22<00:00, 13.30it/s]\n"
     ]
    },
    {
     "name": "stdout",
     "output_type": "stream",
     "text": [
      "epoch30_AP:0.8910612329224445\n"
     ]
    },
    {
     "name": "stderr",
     "output_type": "stream",
     "text": [
      "Iterating validation dataset: 100%|███████████| 149/149 [00:17<00:00,  8.35it/s]\n",
      "Iterating training dataset: 100%|███████████| 1194/1194 [05:24<00:00,  3.68it/s]\n",
      "Calculating AP: 100%|█████████████████████████| 149/149 [00:17<00:00,  8.34it/s]\n"
     ]
    },
    {
     "name": "stdout",
     "output_type": "stream",
     "text": [
      "Train :sunny_31\n",
      "epoch : 31, Train Loss : 0.019112047877192336, Val Loss : 0.1307331967048797, Time : 360.35882234573364, AP : 0.951537048588392\n"
     ]
    },
    {
     "name": "stderr",
     "output_type": "stream",
     "text": [
      "Iterating validation dataset: 100%|███████████| 160/160 [00:19<00:00,  8.32it/s]\n",
      "Iterating training dataset: 100%|███████████| 1281/1281 [05:49<00:00,  3.67it/s]\n",
      "Calculating AP: 100%|█████████████████████████| 160/160 [00:19<00:00,  8.30it/s]\n"
     ]
    },
    {
     "name": "stdout",
     "output_type": "stream",
     "text": [
      "Train :rain_31\n",
      "epoch : 31, Train Loss : 0.08085286987699702, Val Loss : 0.48456941861659286, Time : 388.204124212265, AP : 0.8825717698741506\n"
     ]
    },
    {
     "name": "stderr",
     "output_type": "stream",
     "text": [
      "Iterating validation dataset: 100%|█████████████| 52/52 [00:06<00:00,  8.21it/s]\n",
      "Iterating training dataset: 100%|█████████████| 419/419 [01:54<00:00,  3.66it/s]\n",
      "Calculating AP: 100%|███████████████████████████| 52/52 [00:06<00:00,  8.19it/s]\n"
     ]
    },
    {
     "name": "stdout",
     "output_type": "stream",
     "text": [
      "Train :fog_31\n",
      "epoch : 31, Train Loss : 0.017858165921421105, Val Loss : 0.1363614987170037, Time : 127.28274130821228, AP : 0.9508271152581234\n"
     ]
    },
    {
     "name": "stderr",
     "output_type": "stream",
     "text": [
      "100%|█████████████████████████████████████████| 106/106 [00:08<00:00, 13.21it/s]\n",
      "100%|█████████████████████████████████████████| 321/321 [00:24<00:00, 12.89it/s]\n",
      "100%|█████████████████████████████████████████| 300/300 [00:22<00:00, 13.18it/s]\n"
     ]
    },
    {
     "name": "stdout",
     "output_type": "stream",
     "text": [
      "epoch31_AP:0.8947316395856579\n"
     ]
    },
    {
     "name": "stderr",
     "output_type": "stream",
     "text": [
      "Iterating validation dataset: 100%|███████████| 149/149 [00:17<00:00,  8.34it/s]\n",
      "Iterating training dataset: 100%|███████████| 1194/1194 [05:24<00:00,  3.68it/s]\n",
      "Calculating AP: 100%|█████████████████████████| 149/149 [00:17<00:00,  8.31it/s]\n"
     ]
    },
    {
     "name": "stdout",
     "output_type": "stream",
     "text": [
      "Train :sunny_32\n",
      "epoch : 32, Train Loss : 0.018463072993549233, Val Loss : 0.1290704803791322, Time : 360.2743670940399, AP : 0.9479575024530114\n"
     ]
    },
    {
     "name": "stderr",
     "output_type": "stream",
     "text": [
      "Iterating validation dataset: 100%|███████████| 160/160 [00:19<00:00,  8.29it/s]\n",
      "Iterating training dataset: 100%|███████████| 1281/1281 [05:49<00:00,  3.67it/s]\n",
      "Calculating AP: 100%|█████████████████████████| 160/160 [00:19<00:00,  8.31it/s]\n"
     ]
    },
    {
     "name": "stdout",
     "output_type": "stream",
     "text": [
      "Train :rain_32\n",
      "epoch : 32, Train Loss : 0.07747413107440469, Val Loss : 0.524399462994188, Time : 388.21441531181335, AP : 0.8834726623724283\n"
     ]
    },
    {
     "name": "stderr",
     "output_type": "stream",
     "text": [
      "Iterating validation dataset: 100%|█████████████| 52/52 [00:06<00:00,  8.28it/s]\n",
      "Iterating training dataset: 100%|█████████████| 419/419 [01:54<00:00,  3.66it/s]\n",
      "Calculating AP: 100%|███████████████████████████| 52/52 [00:06<00:00,  8.21it/s]\n"
     ]
    },
    {
     "name": "stdout",
     "output_type": "stream",
     "text": [
      "Train :fog_32\n",
      "epoch : 32, Train Loss : 0.017671421756478903, Val Loss : 0.13825458526396409, Time : 127.13688445091248, AP : 0.9412160392950248\n"
     ]
    },
    {
     "name": "stderr",
     "output_type": "stream",
     "text": [
      "100%|█████████████████████████████████████████| 106/106 [00:07<00:00, 13.38it/s]\n",
      "100%|█████████████████████████████████████████| 321/321 [00:24<00:00, 13.06it/s]\n",
      "100%|█████████████████████████████████████████| 300/300 [00:22<00:00, 13.33it/s]\n"
     ]
    },
    {
     "name": "stdout",
     "output_type": "stream",
     "text": [
      "epoch32_AP:0.8917968032497514\n"
     ]
    },
    {
     "name": "stderr",
     "output_type": "stream",
     "text": [
      "Iterating validation dataset: 100%|███████████| 149/149 [00:17<00:00,  8.30it/s]\n",
      "Iterating training dataset: 100%|███████████| 1194/1194 [05:24<00:00,  3.68it/s]\n",
      "Calculating AP: 100%|█████████████████████████| 149/149 [00:17<00:00,  8.33it/s]\n"
     ]
    },
    {
     "name": "stdout",
     "output_type": "stream",
     "text": [
      "Train :sunny_33\n",
      "epoch : 33, Train Loss : 0.01763283195761087, Val Loss : 0.13273433852165736, Time : 360.4147479534149, AP : 0.9470873604549723\n"
     ]
    },
    {
     "name": "stderr",
     "output_type": "stream",
     "text": [
      "Iterating validation dataset: 100%|███████████| 160/160 [00:19<00:00,  8.34it/s]\n",
      "Iterating training dataset: 100%|███████████| 1281/1281 [05:49<00:00,  3.67it/s]\n",
      "Calculating AP: 100%|█████████████████████████| 160/160 [00:19<00:00,  8.31it/s]\n"
     ]
    },
    {
     "name": "stdout",
     "output_type": "stream",
     "text": [
      "Train :rain_33\n",
      "epoch : 33, Train Loss : 0.07513645120767715, Val Loss : 0.5197559650987387, Time : 388.22775650024414, AP : 0.8844080990372252\n"
     ]
    },
    {
     "name": "stderr",
     "output_type": "stream",
     "text": [
      "Iterating validation dataset: 100%|█████████████| 52/52 [00:06<00:00,  8.22it/s]\n",
      "Iterating training dataset: 100%|█████████████| 419/419 [01:54<00:00,  3.66it/s]\n",
      "Calculating AP: 100%|███████████████████████████| 52/52 [00:06<00:00,  8.20it/s]\n"
     ]
    },
    {
     "name": "stdout",
     "output_type": "stream",
     "text": [
      "Train :fog_33\n",
      "epoch : 33, Train Loss : 0.0163697324029719, Val Loss : 0.13344835670879826, Time : 127.23239159584045, AP : 0.9529282411133924\n"
     ]
    },
    {
     "name": "stderr",
     "output_type": "stream",
     "text": [
      "100%|█████████████████████████████████████████| 106/106 [00:07<00:00, 13.40it/s]\n",
      "100%|█████████████████████████████████████████| 321/321 [00:24<00:00, 13.08it/s]\n",
      "100%|█████████████████████████████████████████| 300/300 [00:22<00:00, 13.35it/s]\n"
     ]
    },
    {
     "name": "stdout",
     "output_type": "stream",
     "text": [
      "epoch33_AP:0.8923099181393503\n"
     ]
    },
    {
     "name": "stderr",
     "output_type": "stream",
     "text": [
      "Iterating validation dataset: 100%|███████████| 149/149 [00:17<00:00,  8.34it/s]\n",
      "Iterating training dataset: 100%|███████████| 1194/1194 [05:24<00:00,  3.68it/s]\n",
      "Calculating AP: 100%|█████████████████████████| 149/149 [00:17<00:00,  8.34it/s]\n"
     ]
    },
    {
     "name": "stdout",
     "output_type": "stream",
     "text": [
      "Train :sunny_34\n",
      "epoch : 34, Train Loss : 0.017491638235524732, Val Loss : 0.13317934493378006, Time : 360.4259412288666, AP : 0.9428087720764111\n"
     ]
    },
    {
     "name": "stderr",
     "output_type": "stream",
     "text": [
      "Iterating validation dataset: 100%|███████████| 160/160 [00:19<00:00,  8.33it/s]\n",
      "Iterating training dataset: 100%|███████████| 1281/1281 [05:49<00:00,  3.67it/s]\n",
      "Calculating AP: 100%|█████████████████████████| 160/160 [00:19<00:00,  8.30it/s]\n"
     ]
    },
    {
     "name": "stdout",
     "output_type": "stream",
     "text": [
      "Train :rain_34\n",
      "epoch : 34, Train Loss : 0.07288873263189073, Val Loss : 0.5503717916551978, Time : 388.149037361145, AP : 0.8806948584983081\n"
     ]
    },
    {
     "name": "stderr",
     "output_type": "stream",
     "text": [
      "Iterating validation dataset: 100%|█████████████| 52/52 [00:06<00:00,  8.28it/s]\n",
      "Iterating training dataset: 100%|█████████████| 419/419 [01:54<00:00,  3.66it/s]\n",
      "Calculating AP: 100%|███████████████████████████| 52/52 [00:06<00:00,  8.23it/s]\n"
     ]
    },
    {
     "name": "stdout",
     "output_type": "stream",
     "text": [
      "Train :fog_34\n",
      "epoch : 34, Train Loss : 0.016835174584418963, Val Loss : 0.14705636963928834, Time : 127.12495636940002, AP : 0.9309323776061227\n"
     ]
    },
    {
     "name": "stderr",
     "output_type": "stream",
     "text": [
      "100%|█████████████████████████████████████████| 106/106 [00:07<00:00, 13.49it/s]\n",
      "100%|█████████████████████████████████████████| 321/321 [00:24<00:00, 13.07it/s]\n",
      "100%|█████████████████████████████████████████| 300/300 [00:22<00:00, 13.32it/s]\n"
     ]
    },
    {
     "name": "stdout",
     "output_type": "stream",
     "text": [
      "epoch34_AP:0.8904346797520044\n"
     ]
    },
    {
     "name": "stderr",
     "output_type": "stream",
     "text": [
      "Iterating validation dataset: 100%|███████████| 149/149 [00:17<00:00,  8.33it/s]\n",
      "Iterating training dataset: 100%|███████████| 1194/1194 [05:24<00:00,  3.68it/s]\n",
      "Calculating AP: 100%|█████████████████████████| 149/149 [00:17<00:00,  8.34it/s]\n"
     ]
    },
    {
     "name": "stdout",
     "output_type": "stream",
     "text": [
      "Train :sunny_35\n",
      "epoch : 35, Train Loss : 0.016753352660384697, Val Loss : 0.14522769655907314, Time : 360.21659302711487, AP : 0.9403807084439606\n"
     ]
    },
    {
     "name": "stderr",
     "output_type": "stream",
     "text": [
      "Iterating validation dataset: 100%|███████████| 160/160 [00:19<00:00,  8.33it/s]\n",
      "Iterating training dataset: 100%|███████████| 1281/1281 [05:49<00:00,  3.67it/s]\n",
      "Calculating AP: 100%|█████████████████████████| 160/160 [00:19<00:00,  8.31it/s]\n"
     ]
    },
    {
     "name": "stdout",
     "output_type": "stream",
     "text": [
      "Train :rain_35\n",
      "epoch : 35, Train Loss : 0.07195260435936043, Val Loss : 0.5655800357926637, Time : 388.10491275787354, AP : 0.8878499189356885\n"
     ]
    },
    {
     "name": "stderr",
     "output_type": "stream",
     "text": [
      "Iterating validation dataset: 100%|█████████████| 52/52 [00:06<00:00,  8.28it/s]\n",
      "Iterating training dataset: 100%|█████████████| 419/419 [01:54<00:00,  3.66it/s]\n",
      "Calculating AP: 100%|███████████████████████████| 52/52 [00:06<00:00,  8.21it/s]\n"
     ]
    },
    {
     "name": "stdout",
     "output_type": "stream",
     "text": [
      "Train :fog_35\n",
      "epoch : 35, Train Loss : 0.015945148237520797, Val Loss : 0.13424993934145626, Time : 127.167067527771, AP : 0.947002541056559\n"
     ]
    },
    {
     "name": "stderr",
     "output_type": "stream",
     "text": [
      "100%|█████████████████████████████████████████| 106/106 [00:07<00:00, 13.27it/s]\n",
      "100%|█████████████████████████████████████████| 321/321 [00:24<00:00, 12.96it/s]\n",
      "100%|█████████████████████████████████████████| 300/300 [00:22<00:00, 13.24it/s]\n"
     ]
    },
    {
     "name": "stdout",
     "output_type": "stream",
     "text": [
      "epoch35_AP:0.8950570181027264\n"
     ]
    },
    {
     "name": "stderr",
     "output_type": "stream",
     "text": [
      "Iterating validation dataset: 100%|███████████| 149/149 [00:17<00:00,  8.33it/s]\n",
      "Iterating training dataset: 100%|███████████| 1194/1194 [05:24<00:00,  3.68it/s]\n",
      "Calculating AP: 100%|█████████████████████████| 149/149 [00:17<00:00,  8.33it/s]\n"
     ]
    },
    {
     "name": "stdout",
     "output_type": "stream",
     "text": [
      "Train :sunny_36\n",
      "epoch : 36, Train Loss : 0.01619519813530696, Val Loss : 0.13327966487947726, Time : 360.33018922805786, AP : 0.9494033423666188\n"
     ]
    },
    {
     "name": "stderr",
     "output_type": "stream",
     "text": [
      "Iterating validation dataset: 100%|███████████| 160/160 [00:19<00:00,  8.32it/s]\n",
      "Iterating training dataset: 100%|███████████| 1281/1281 [05:49<00:00,  3.67it/s]\n",
      "Calculating AP: 100%|█████████████████████████| 160/160 [00:19<00:00,  8.28it/s]\n"
     ]
    },
    {
     "name": "stdout",
     "output_type": "stream",
     "text": [
      "Train :rain_36\n",
      "epoch : 36, Train Loss : 0.06908931033133263, Val Loss : 0.490273271035403, Time : 388.2858419418335, AP : 0.8758103465837648\n"
     ]
    },
    {
     "name": "stderr",
     "output_type": "stream",
     "text": [
      "Iterating validation dataset: 100%|█████████████| 52/52 [00:06<00:00,  8.26it/s]\n",
      "Iterating training dataset: 100%|█████████████| 419/419 [01:54<00:00,  3.66it/s]\n",
      "Calculating AP: 100%|███████████████████████████| 52/52 [00:06<00:00,  8.22it/s]\n"
     ]
    },
    {
     "name": "stdout",
     "output_type": "stream",
     "text": [
      "Train :fog_36\n",
      "epoch : 36, Train Loss : 0.015756975133683276, Val Loss : 0.13656999310478568, Time : 126.99449586868286, AP : 0.956546145783296\n"
     ]
    },
    {
     "name": "stderr",
     "output_type": "stream",
     "text": [
      "100%|█████████████████████████████████████████| 106/106 [00:08<00:00, 13.24it/s]\n",
      "100%|█████████████████████████████████████████| 321/321 [00:24<00:00, 12.97it/s]\n",
      "100%|█████████████████████████████████████████| 300/300 [00:22<00:00, 13.40it/s]\n"
     ]
    },
    {
     "name": "stdout",
     "output_type": "stream",
     "text": [
      "epoch36_AP:0.9017154643413767\n"
     ]
    },
    {
     "name": "stderr",
     "output_type": "stream",
     "text": [
      "Iterating validation dataset: 100%|███████████| 149/149 [00:17<00:00,  8.34it/s]\n",
      "Iterating training dataset: 100%|███████████| 1194/1194 [05:24<00:00,  3.68it/s]\n",
      "Calculating AP: 100%|█████████████████████████| 149/149 [00:17<00:00,  8.31it/s]\n"
     ]
    },
    {
     "name": "stdout",
     "output_type": "stream",
     "text": [
      "Train :sunny_37\n",
      "epoch : 37, Train Loss : 0.015866016335917988, Val Loss : 0.13090385202843471, Time : 360.3372941017151, AP : 0.9524030270183488\n"
     ]
    },
    {
     "name": "stderr",
     "output_type": "stream",
     "text": [
      "Iterating validation dataset: 100%|███████████| 160/160 [00:19<00:00,  8.34it/s]\n",
      "Iterating training dataset: 100%|███████████| 1281/1281 [05:49<00:00,  3.66it/s]\n",
      "Calculating AP: 100%|█████████████████████████| 160/160 [00:19<00:00,  8.29it/s]\n"
     ]
    },
    {
     "name": "stdout",
     "output_type": "stream",
     "text": [
      "Train :rain_37\n",
      "epoch : 37, Train Loss : 0.06691752636229371, Val Loss : 0.49908251108136026, Time : 388.36184096336365, AP : 0.8824794676299375\n"
     ]
    },
    {
     "name": "stderr",
     "output_type": "stream",
     "text": [
      "Iterating validation dataset: 100%|█████████████| 52/52 [00:06<00:00,  8.21it/s]\n",
      "Iterating training dataset: 100%|█████████████| 419/419 [01:54<00:00,  3.66it/s]\n",
      "Calculating AP: 100%|███████████████████████████| 52/52 [00:06<00:00,  8.21it/s]\n"
     ]
    },
    {
     "name": "stdout",
     "output_type": "stream",
     "text": [
      "Train :fog_37\n",
      "epoch : 37, Train Loss : 0.015509145105422112, Val Loss : 0.13692534670162088, Time : 127.05362367630005, AP : 0.9545190303868409\n"
     ]
    },
    {
     "name": "stderr",
     "output_type": "stream",
     "text": [
      "100%|█████████████████████████████████████████| 106/106 [00:07<00:00, 13.28it/s]\n",
      "100%|█████████████████████████████████████████| 321/321 [00:24<00:00, 12.99it/s]\n",
      "100%|█████████████████████████████████████████| 300/300 [00:22<00:00, 13.40it/s]\n"
     ]
    },
    {
     "name": "stdout",
     "output_type": "stream",
     "text": [
      "epoch37_AP:0.895253122241848\n"
     ]
    },
    {
     "name": "stderr",
     "output_type": "stream",
     "text": [
      "Iterating validation dataset: 100%|███████████| 149/149 [00:17<00:00,  8.34it/s]\n",
      "Iterating training dataset: 100%|███████████| 1194/1194 [05:24<00:00,  3.68it/s]\n",
      "Calculating AP: 100%|█████████████████████████| 149/149 [00:17<00:00,  8.34it/s]\n"
     ]
    },
    {
     "name": "stdout",
     "output_type": "stream",
     "text": [
      "Train :sunny_38\n",
      "epoch : 38, Train Loss : 0.01556292189974681, Val Loss : 0.13087262124473217, Time : 360.069922208786, AP : 0.9462202573883687\n"
     ]
    },
    {
     "name": "stderr",
     "output_type": "stream",
     "text": [
      "Iterating validation dataset: 100%|███████████| 160/160 [00:19<00:00,  8.32it/s]\n",
      "Iterating training dataset: 100%|███████████| 1281/1281 [05:49<00:00,  3.67it/s]\n",
      "Calculating AP: 100%|█████████████████████████| 160/160 [00:19<00:00,  8.29it/s]\n"
     ]
    },
    {
     "name": "stdout",
     "output_type": "stream",
     "text": [
      "Train :rain_38\n",
      "epoch : 38, Train Loss : 0.06565430536095539, Val Loss : 0.4958638397976756, Time : 388.13323760032654, AP : 0.8871706437484814\n"
     ]
    },
    {
     "name": "stderr",
     "output_type": "stream",
     "text": [
      "Iterating validation dataset: 100%|█████████████| 52/52 [00:06<00:00,  8.27it/s]\n",
      "Iterating training dataset: 100%|█████████████| 419/419 [01:54<00:00,  3.66it/s]\n",
      "Calculating AP: 100%|███████████████████████████| 52/52 [00:06<00:00,  8.23it/s]\n"
     ]
    },
    {
     "name": "stdout",
     "output_type": "stream",
     "text": [
      "Train :fog_38\n",
      "epoch : 38, Train Loss : 0.015020364567055088, Val Loss : 0.13838846180946207, Time : 127.17542099952698, AP : 0.9600794119255518\n"
     ]
    },
    {
     "name": "stderr",
     "output_type": "stream",
     "text": [
      "100%|█████████████████████████████████████████| 106/106 [00:07<00:00, 13.53it/s]\n",
      "100%|█████████████████████████████████████████| 321/321 [00:24<00:00, 13.06it/s]\n",
      "100%|█████████████████████████████████████████| 300/300 [00:22<00:00, 13.33it/s]\n"
     ]
    },
    {
     "name": "stdout",
     "output_type": "stream",
     "text": [
      "epoch38_AP:0.9045083076089275\n"
     ]
    },
    {
     "name": "stderr",
     "output_type": "stream",
     "text": [
      "Iterating validation dataset: 100%|███████████| 149/149 [00:17<00:00,  8.35it/s]\n",
      "Iterating training dataset: 100%|███████████| 1194/1194 [05:24<00:00,  3.68it/s]\n",
      "Calculating AP: 100%|█████████████████████████| 149/149 [00:17<00:00,  8.32it/s]\n"
     ]
    },
    {
     "name": "stdout",
     "output_type": "stream",
     "text": [
      "Train :sunny_39\n",
      "epoch : 39, Train Loss : 0.015352411397851354, Val Loss : 0.13058154433090616, Time : 360.08023381233215, AP : 0.9561743622880687\n"
     ]
    },
    {
     "name": "stderr",
     "output_type": "stream",
     "text": [
      "Iterating validation dataset: 100%|███████████| 160/160 [00:19<00:00,  8.35it/s]\n",
      "Iterating training dataset: 100%|███████████| 1281/1281 [05:49<00:00,  3.67it/s]\n",
      "Calculating AP: 100%|█████████████████████████| 160/160 [00:19<00:00,  8.30it/s]\n"
     ]
    },
    {
     "name": "stdout",
     "output_type": "stream",
     "text": [
      "Train :rain_39\n",
      "epoch : 39, Train Loss : 0.06338032363833253, Val Loss : 0.5124447919428349, Time : 388.04331254959106, AP : 0.8813118719658029\n"
     ]
    },
    {
     "name": "stderr",
     "output_type": "stream",
     "text": [
      "Iterating validation dataset: 100%|█████████████| 52/52 [00:06<00:00,  8.25it/s]\n",
      "Iterating training dataset: 100%|█████████████| 419/419 [01:54<00:00,  3.66it/s]\n",
      "Calculating AP: 100%|███████████████████████████| 52/52 [00:06<00:00,  8.22it/s]\n"
     ]
    },
    {
     "name": "stdout",
     "output_type": "stream",
     "text": [
      "Train :fog_39\n",
      "epoch : 39, Train Loss : 0.01483342023999797, Val Loss : 0.14682761672884226, Time : 127.0476176738739, AP : 0.9387528827520661\n"
     ]
    },
    {
     "name": "stderr",
     "output_type": "stream",
     "text": [
      "100%|█████████████████████████████████████████| 106/106 [00:07<00:00, 13.44it/s]\n",
      "100%|█████████████████████████████████████████| 321/321 [00:24<00:00, 13.06it/s]\n",
      "100%|█████████████████████████████████████████| 300/300 [00:22<00:00, 13.36it/s]\n"
     ]
    },
    {
     "name": "stdout",
     "output_type": "stream",
     "text": [
      "epoch39_AP:0.8943048287749384\n"
     ]
    },
    {
     "name": "stderr",
     "output_type": "stream",
     "text": [
      "Iterating validation dataset: 100%|███████████| 149/149 [00:18<00:00,  8.27it/s]\n",
      "Iterating training dataset: 100%|███████████| 1194/1194 [05:24<00:00,  3.68it/s]\n",
      "Calculating AP: 100%|█████████████████████████| 149/149 [00:17<00:00,  8.31it/s]\n"
     ]
    },
    {
     "name": "stdout",
     "output_type": "stream",
     "text": [
      "Train :sunny_40\n",
      "epoch : 40, Train Loss : 0.014793832914009097, Val Loss : 0.13335697316633374, Time : 360.0927731990814, AP : 0.9502863408790212\n"
     ]
    },
    {
     "name": "stderr",
     "output_type": "stream",
     "text": [
      "Iterating validation dataset: 100%|███████████| 160/160 [00:19<00:00,  8.32it/s]\n",
      "Iterating training dataset: 100%|███████████| 1281/1281 [05:49<00:00,  3.67it/s]\n",
      "Calculating AP: 100%|█████████████████████████| 160/160 [00:19<00:00,  8.30it/s]\n"
     ]
    },
    {
     "name": "stdout",
     "output_type": "stream",
     "text": [
      "Train :rain_40\n",
      "epoch : 40, Train Loss : 0.061594065025035845, Val Loss : 0.48828291532117873, Time : 387.9237780570984, AP : 0.8839193794761924\n"
     ]
    },
    {
     "name": "stderr",
     "output_type": "stream",
     "text": [
      "Iterating validation dataset: 100%|█████████████| 52/52 [00:06<00:00,  8.22it/s]\n",
      "Iterating training dataset: 100%|█████████████| 419/419 [01:54<00:00,  3.66it/s]\n",
      "Calculating AP: 100%|███████████████████████████| 52/52 [00:06<00:00,  8.19it/s]\n"
     ]
    },
    {
     "name": "stdout",
     "output_type": "stream",
     "text": [
      "Train :fog_40\n",
      "epoch : 40, Train Loss : 0.014315458039057425, Val Loss : 0.13828199261871094, Time : 127.07989430427551, AP : 0.9497013608314688\n"
     ]
    },
    {
     "name": "stderr",
     "output_type": "stream",
     "text": [
      "100%|█████████████████████████████████████████| 106/106 [00:07<00:00, 13.25it/s]\n",
      "100%|█████████████████████████████████████████| 321/321 [00:24<00:00, 12.98it/s]\n",
      "100%|█████████████████████████████████████████| 300/300 [00:22<00:00, 13.27it/s]\n"
     ]
    },
    {
     "name": "stdout",
     "output_type": "stream",
     "text": [
      "epoch40_AP:0.896542493955109\n"
     ]
    },
    {
     "name": "stderr",
     "output_type": "stream",
     "text": [
      "Iterating validation dataset: 100%|███████████| 149/149 [00:17<00:00,  8.35it/s]\n",
      "Iterating training dataset: 100%|███████████| 1194/1194 [05:23<00:00,  3.69it/s]\n",
      "Calculating AP: 100%|█████████████████████████| 149/149 [00:17<00:00,  8.32it/s]\n"
     ]
    },
    {
     "name": "stdout",
     "output_type": "stream",
     "text": [
      "Train :sunny_41\n",
      "epoch : 41, Train Loss : 0.014596719469506936, Val Loss : 0.13431590898024956, Time : 359.8011646270752, AP : 0.9501758086500853\n"
     ]
    },
    {
     "name": "stderr",
     "output_type": "stream",
     "text": [
      "Iterating validation dataset: 100%|███████████| 160/160 [00:19<00:00,  8.31it/s]\n",
      "Iterating training dataset: 100%|███████████| 1281/1281 [05:49<00:00,  3.67it/s]\n",
      "Calculating AP: 100%|█████████████████████████| 160/160 [00:19<00:00,  8.28it/s]\n"
     ]
    },
    {
     "name": "stdout",
     "output_type": "stream",
     "text": [
      "Train :rain_41\n",
      "epoch : 41, Train Loss : 0.06019026216135522, Val Loss : 0.4856166500132531, Time : 388.0995020866394, AP : 0.8950883809107228\n"
     ]
    },
    {
     "name": "stderr",
     "output_type": "stream",
     "text": [
      "Iterating validation dataset: 100%|█████████████| 52/52 [00:06<00:00,  8.24it/s]\n",
      "Iterating training dataset: 100%|█████████████| 419/419 [01:54<00:00,  3.66it/s]\n",
      "Calculating AP: 100%|███████████████████████████| 52/52 [00:06<00:00,  8.21it/s]\n"
     ]
    },
    {
     "name": "stdout",
     "output_type": "stream",
     "text": [
      "Train :fog_41\n",
      "epoch : 41, Train Loss : 0.01391496789099333, Val Loss : 0.13311071634794083, Time : 127.13661599159241, AP : 0.9473165163743431\n"
     ]
    },
    {
     "name": "stderr",
     "output_type": "stream",
     "text": [
      "100%|█████████████████████████████████████████| 106/106 [00:08<00:00, 13.18it/s]\n",
      "100%|█████████████████████████████████████████| 321/321 [00:24<00:00, 12.99it/s]\n",
      "100%|█████████████████████████████████████████| 300/300 [00:22<00:00, 13.26it/s]\n"
     ]
    },
    {
     "name": "stdout",
     "output_type": "stream",
     "text": [
      "epoch41_AP:0.8956684263064774\n"
     ]
    },
    {
     "name": "stderr",
     "output_type": "stream",
     "text": [
      "Iterating validation dataset: 100%|███████████| 149/149 [00:18<00:00,  8.20it/s]\n",
      "Iterating training dataset: 100%|███████████| 1194/1194 [05:24<00:00,  3.68it/s]\n",
      "Calculating AP: 100%|█████████████████████████| 149/149 [00:18<00:00,  8.13it/s]\n"
     ]
    },
    {
     "name": "stdout",
     "output_type": "stream",
     "text": [
      "Train :sunny_42\n",
      "epoch : 42, Train Loss : 0.013935632818363687, Val Loss : 0.13575658350932918, Time : 360.9060399532318, AP : 0.9444431428389937\n"
     ]
    },
    {
     "name": "stderr",
     "output_type": "stream",
     "text": [
      "Iterating validation dataset: 100%|███████████| 160/160 [00:19<00:00,  8.14it/s]\n",
      "Iterating training dataset: 100%|███████████| 1281/1281 [05:50<00:00,  3.65it/s]\n",
      "Calculating AP: 100%|█████████████████████████| 160/160 [00:19<00:00,  8.20it/s]\n"
     ]
    },
    {
     "name": "stdout",
     "output_type": "stream",
     "text": [
      "Train :rain_42\n",
      "epoch : 42, Train Loss : 0.05975213152000929, Val Loss : 0.5485108755994588, Time : 390.34608149528503, AP : 0.8793705127583742\n"
     ]
    },
    {
     "name": "stderr",
     "output_type": "stream",
     "text": [
      "Iterating validation dataset: 100%|█████████████| 52/52 [00:06<00:00,  8.18it/s]\n",
      "Iterating training dataset: 100%|█████████████| 419/419 [01:54<00:00,  3.65it/s]\n",
      "Calculating AP: 100%|███████████████████████████| 52/52 [00:06<00:00,  8.15it/s]\n"
     ]
    },
    {
     "name": "stdout",
     "output_type": "stream",
     "text": [
      "Train :fog_42\n",
      "epoch : 42, Train Loss : 0.013172214804106084, Val Loss : 0.14581932331202552, Time : 127.54375720024109, AP : 0.9343244006401186\n"
     ]
    },
    {
     "name": "stderr",
     "output_type": "stream",
     "text": [
      "100%|█████████████████████████████████████████| 106/106 [00:07<00:00, 13.39it/s]\n",
      "100%|█████████████████████████████████████████| 321/321 [00:24<00:00, 13.10it/s]\n",
      "100%|█████████████████████████████████████████| 300/300 [00:22<00:00, 13.32it/s]\n"
     ]
    },
    {
     "name": "stdout",
     "output_type": "stream",
     "text": [
      "epoch42_AP:0.8916951303859944\n"
     ]
    },
    {
     "name": "stderr",
     "output_type": "stream",
     "text": [
      "Iterating validation dataset: 100%|███████████| 149/149 [00:17<00:00,  8.29it/s]\n",
      "Iterating training dataset: 100%|███████████| 1194/1194 [05:25<00:00,  3.67it/s]\n",
      "Calculating AP: 100%|█████████████████████████| 149/149 [00:18<00:00,  8.25it/s]\n"
     ]
    },
    {
     "name": "stdout",
     "output_type": "stream",
     "text": [
      "Train :sunny_43\n",
      "epoch : 43, Train Loss : 0.013825966249425994, Val Loss : 0.1391108770160967, Time : 361.4048981666565, AP : 0.9449813782653091\n"
     ]
    },
    {
     "name": "stderr",
     "output_type": "stream",
     "text": [
      "Iterating validation dataset: 100%|███████████| 160/160 [00:19<00:00,  8.29it/s]\n",
      "Iterating training dataset: 100%|███████████| 1281/1281 [05:48<00:00,  3.67it/s]\n",
      "Calculating AP: 100%|█████████████████████████| 160/160 [00:19<00:00,  8.27it/s]\n"
     ]
    },
    {
     "name": "stdout",
     "output_type": "stream",
     "text": [
      "Train :rain_43\n",
      "epoch : 43, Train Loss : 0.05857404490502422, Val Loss : 0.5226232461165636, Time : 387.62443137168884, AP : 0.8859043696750195\n"
     ]
    },
    {
     "name": "stderr",
     "output_type": "stream",
     "text": [
      "Iterating validation dataset: 100%|█████████████| 52/52 [00:06<00:00,  8.28it/s]\n",
      "Iterating training dataset: 100%|█████████████| 419/419 [01:55<00:00,  3.64it/s]\n",
      "Calculating AP: 100%|███████████████████████████| 52/52 [00:06<00:00,  8.07it/s]\n"
     ]
    },
    {
     "name": "stdout",
     "output_type": "stream",
     "text": [
      "Train :fog_43\n",
      "epoch : 43, Train Loss : 0.013434412181244047, Val Loss : 0.13769046113324854, Time : 127.88313221931458, AP : 0.9565858277863981\n"
     ]
    },
    {
     "name": "stderr",
     "output_type": "stream",
     "text": [
      "100%|█████████████████████████████████████████| 106/106 [00:08<00:00, 13.17it/s]\n",
      "100%|█████████████████████████████████████████| 321/321 [00:24<00:00, 12.86it/s]\n",
      "100%|█████████████████████████████████████████| 300/300 [00:22<00:00, 13.19it/s]\n"
     ]
    },
    {
     "name": "stdout",
     "output_type": "stream",
     "text": [
      "epoch43_AP:0.9019929952989019\n"
     ]
    },
    {
     "name": "stderr",
     "output_type": "stream",
     "text": [
      "Iterating validation dataset: 100%|███████████| 149/149 [00:17<00:00,  8.30it/s]\n",
      "Iterating training dataset: 100%|███████████| 1194/1194 [05:25<00:00,  3.67it/s]\n",
      "Calculating AP: 100%|█████████████████████████| 149/149 [00:18<00:00,  8.27it/s]\n"
     ]
    },
    {
     "name": "stdout",
     "output_type": "stream",
     "text": [
      "Train :sunny_44\n",
      "epoch : 44, Train Loss : 0.013688511447396, Val Loss : 0.13024120602831746, Time : 361.3103573322296, AP : 0.9471234437653173\n"
     ]
    },
    {
     "name": "stderr",
     "output_type": "stream",
     "text": [
      "Iterating validation dataset: 100%|███████████| 160/160 [00:19<00:00,  8.27it/s]\n",
      "Iterating training dataset: 100%|███████████| 1281/1281 [05:50<00:00,  3.66it/s]\n",
      "Calculating AP: 100%|█████████████████████████| 160/160 [00:19<00:00,  8.24it/s]\n"
     ]
    },
    {
     "name": "stdout",
     "output_type": "stream",
     "text": [
      "Train :rain_44\n",
      "epoch : 44, Train Loss : 0.05723682148920068, Val Loss : 0.5409548301715403, Time : 389.1971092224121, AP : 0.8820949670945755\n"
     ]
    },
    {
     "name": "stderr",
     "output_type": "stream",
     "text": [
      "Iterating validation dataset: 100%|█████████████| 52/52 [00:06<00:00,  8.21it/s]\n",
      "Iterating training dataset: 100%|█████████████| 419/419 [01:54<00:00,  3.66it/s]\n",
      "Calculating AP: 100%|███████████████████████████| 52/52 [00:06<00:00,  8.16it/s]\n"
     ]
    },
    {
     "name": "stdout",
     "output_type": "stream",
     "text": [
      "Train :fog_44\n",
      "epoch : 44, Train Loss : 0.01353984614967553, Val Loss : 0.14308699822196594, Time : 127.36771774291992, AP : 0.9421864485313982\n"
     ]
    },
    {
     "name": "stderr",
     "output_type": "stream",
     "text": [
      "100%|█████████████████████████████████████████| 106/106 [00:08<00:00, 13.20it/s]\n",
      "100%|█████████████████████████████████████████| 321/321 [00:25<00:00, 12.84it/s]\n",
      "100%|█████████████████████████████████████████| 300/300 [00:22<00:00, 13.21it/s]\n"
     ]
    },
    {
     "name": "stdout",
     "output_type": "stream",
     "text": [
      "epoch44_AP:0.8899328892293816\n"
     ]
    },
    {
     "name": "stderr",
     "output_type": "stream",
     "text": [
      "Iterating validation dataset: 100%|███████████| 149/149 [00:17<00:00,  8.31it/s]\n",
      "Iterating training dataset: 100%|███████████| 1194/1194 [05:24<00:00,  3.68it/s]\n",
      "Calculating AP: 100%|█████████████████████████| 149/149 [00:18<00:00,  8.26it/s]\n"
     ]
    },
    {
     "name": "stdout",
     "output_type": "stream",
     "text": [
      "Train :sunny_45\n",
      "epoch : 45, Train Loss : 0.013723714351638452, Val Loss : 0.14520719762416495, Time : 360.8793168067932, AP : 0.9463920332933462\n"
     ]
    },
    {
     "name": "stderr",
     "output_type": "stream",
     "text": [
      "Iterating validation dataset: 100%|███████████| 160/160 [00:19<00:00,  8.25it/s]\n",
      "Iterating training dataset: 100%|███████████| 1281/1281 [05:50<00:00,  3.66it/s]\n",
      "Calculating AP: 100%|█████████████████████████| 160/160 [00:19<00:00,  8.23it/s]\n"
     ]
    },
    {
     "name": "stdout",
     "output_type": "stream",
     "text": [
      "Train :rain_45\n",
      "epoch : 45, Train Loss : 0.05584495728086625, Val Loss : 0.5326201378833503, Time : 389.2181854248047, AP : 0.8829616921544234\n"
     ]
    },
    {
     "name": "stderr",
     "output_type": "stream",
     "text": [
      "Iterating validation dataset: 100%|█████████████| 52/52 [00:06<00:00,  8.25it/s]\n",
      "Iterating training dataset: 100%|█████████████| 419/419 [01:54<00:00,  3.65it/s]\n",
      "Calculating AP: 100%|███████████████████████████| 52/52 [00:06<00:00,  8.15it/s]\n"
     ]
    },
    {
     "name": "stdout",
     "output_type": "stream",
     "text": [
      "Train :fog_45\n",
      "epoch : 45, Train Loss : 0.013115240971675601, Val Loss : 0.1410247454813753, Time : 127.37760066986084, AP : 0.9489917161325785\n"
     ]
    },
    {
     "name": "stderr",
     "output_type": "stream",
     "text": [
      "100%|█████████████████████████████████████████| 106/106 [00:07<00:00, 13.37it/s]\n",
      "100%|█████████████████████████████████████████| 321/321 [00:24<00:00, 13.02it/s]\n",
      "100%|█████████████████████████████████████████| 300/300 [00:22<00:00, 13.28it/s]\n"
     ]
    },
    {
     "name": "stdout",
     "output_type": "stream",
     "text": [
      "epoch45_AP:0.8962253401003588\n"
     ]
    },
    {
     "name": "stderr",
     "output_type": "stream",
     "text": [
      "Iterating validation dataset: 100%|███████████| 149/149 [00:18<00:00,  8.26it/s]\n",
      "Iterating training dataset: 100%|███████████| 1194/1194 [05:25<00:00,  3.67it/s]\n",
      "Calculating AP: 100%|█████████████████████████| 149/149 [00:18<00:00,  8.27it/s]\n"
     ]
    },
    {
     "name": "stdout",
     "output_type": "stream",
     "text": [
      "Train :sunny_46\n",
      "epoch : 46, Train Loss : 0.012959163427123584, Val Loss : 0.13824127530741612, Time : 361.17723202705383, AP : 0.9446681800483905\n"
     ]
    },
    {
     "name": "stderr",
     "output_type": "stream",
     "text": [
      "Iterating validation dataset: 100%|███████████| 160/160 [00:19<00:00,  8.27it/s]\n",
      "Iterating training dataset: 100%|███████████| 1281/1281 [05:49<00:00,  3.66it/s]\n",
      "Calculating AP: 100%|█████████████████████████| 160/160 [00:19<00:00,  8.25it/s]\n"
     ]
    },
    {
     "name": "stdout",
     "output_type": "stream",
     "text": [
      "Train :rain_46\n",
      "epoch : 46, Train Loss : 0.055371912438742336, Val Loss : 0.5254214290063828, Time : 388.9251501560211, AP : 0.8810755996070956\n"
     ]
    },
    {
     "name": "stderr",
     "output_type": "stream",
     "text": [
      "Iterating validation dataset: 100%|█████████████| 52/52 [00:06<00:00,  8.24it/s]\n",
      "Iterating training dataset: 100%|█████████████| 419/419 [01:54<00:00,  3.65it/s]\n",
      "Calculating AP: 100%|███████████████████████████| 52/52 [00:06<00:00,  8.13it/s]\n"
     ]
    },
    {
     "name": "stdout",
     "output_type": "stream",
     "text": [
      "Train :fog_46\n",
      "epoch : 46, Train Loss : 0.012777073652236801, Val Loss : 0.1421516056602391, Time : 127.43098902702332, AP : 0.9460532258323511\n"
     ]
    },
    {
     "name": "stderr",
     "output_type": "stream",
     "text": [
      "100%|█████████████████████████████████████████| 106/106 [00:07<00:00, 13.27it/s]\n",
      "100%|█████████████████████████████████████████| 321/321 [00:24<00:00, 12.95it/s]\n",
      "100%|█████████████████████████████████████████| 300/300 [00:22<00:00, 13.29it/s]\n"
     ]
    },
    {
     "name": "stdout",
     "output_type": "stream",
     "text": [
      "epoch46_AP:0.8941420304732306\n"
     ]
    },
    {
     "name": "stderr",
     "output_type": "stream",
     "text": [
      "Iterating validation dataset: 100%|███████████| 149/149 [00:18<00:00,  8.18it/s]\n",
      "Iterating training dataset: 100%|███████████| 1194/1194 [05:23<00:00,  3.69it/s]\n",
      "Calculating AP: 100%|█████████████████████████| 149/149 [00:17<00:00,  8.33it/s]\n"
     ]
    },
    {
     "name": "stdout",
     "output_type": "stream",
     "text": [
      "Train :sunny_47\n",
      "epoch : 47, Train Loss : 0.012965047533875035, Val Loss : 0.13406595000184623, Time : 359.4842028617859, AP : 0.9493587129624874\n"
     ]
    },
    {
     "name": "stderr",
     "output_type": "stream",
     "text": [
      "Iterating validation dataset: 100%|███████████| 160/160 [00:19<00:00,  8.32it/s]\n",
      "Iterating training dataset: 100%|███████████| 1281/1281 [05:48<00:00,  3.67it/s]\n",
      "Calculating AP: 100%|█████████████████████████| 160/160 [00:19<00:00,  8.34it/s]\n"
     ]
    },
    {
     "name": "stdout",
     "output_type": "stream",
     "text": [
      "Train :rain_47\n",
      "epoch : 47, Train Loss : 0.05366739282743666, Val Loss : 0.5215534534305334, Time : 387.4978229999542, AP : 0.8885264894963143\n"
     ]
    },
    {
     "name": "stderr",
     "output_type": "stream",
     "text": [
      "Iterating validation dataset: 100%|█████████████| 52/52 [00:06<00:00,  8.27it/s]\n",
      "Iterating training dataset: 100%|█████████████| 419/419 [01:54<00:00,  3.67it/s]\n",
      "Calculating AP: 100%|███████████████████████████| 52/52 [00:06<00:00,  8.23it/s]\n"
     ]
    },
    {
     "name": "stdout",
     "output_type": "stream",
     "text": [
      "Train :fog_47\n",
      "epoch : 47, Train Loss : 0.01229572048336312, Val Loss : 0.1430189198223301, Time : 126.73082232475281, AP : 0.9526110973902959\n"
     ]
    },
    {
     "name": "stderr",
     "output_type": "stream",
     "text": [
      "100%|█████████████████████████████████████████| 106/106 [00:08<00:00, 13.24it/s]\n",
      "100%|█████████████████████████████████████████| 321/321 [00:24<00:00, 12.96it/s]\n",
      "100%|█████████████████████████████████████████| 300/300 [00:22<00:00, 13.28it/s]\n"
     ]
    },
    {
     "name": "stdout",
     "output_type": "stream",
     "text": [
      "epoch47_AP:0.9030567613562006\n"
     ]
    },
    {
     "name": "stderr",
     "output_type": "stream",
     "text": [
      "Iterating validation dataset: 100%|███████████| 149/149 [00:17<00:00,  8.36it/s]\n",
      "Iterating training dataset: 100%|███████████| 1194/1194 [05:24<00:00,  3.68it/s]\n",
      "Calculating AP: 100%|█████████████████████████| 149/149 [00:18<00:00,  8.25it/s]\n"
     ]
    },
    {
     "name": "stdout",
     "output_type": "stream",
     "text": [
      "Train :sunny_48\n",
      "epoch : 48, Train Loss : 0.012843987392417626, Val Loss : 0.1393607827591016, Time : 360.4027223587036, AP : 0.951479122309312\n"
     ]
    },
    {
     "name": "stderr",
     "output_type": "stream",
     "text": [
      "Iterating validation dataset: 100%|███████████| 160/160 [00:19<00:00,  8.26it/s]\n",
      "Iterating training dataset: 100%|███████████| 1281/1281 [05:50<00:00,  3.66it/s]\n",
      "Calculating AP: 100%|█████████████████████████| 160/160 [00:19<00:00,  8.23it/s]\n"
     ]
    },
    {
     "name": "stdout",
     "output_type": "stream",
     "text": [
      "Train :rain_48\n",
      "epoch : 48, Train Loss : 0.05247799491736628, Val Loss : 0.5124636607477442, Time : 389.57357263565063, AP : 0.882091967540104\n"
     ]
    },
    {
     "name": "stderr",
     "output_type": "stream",
     "text": [
      "Iterating validation dataset: 100%|█████████████| 52/52 [00:06<00:00,  8.19it/s]\n",
      "Iterating training dataset: 100%|█████████████| 419/419 [01:54<00:00,  3.65it/s]\n",
      "Calculating AP: 100%|███████████████████████████| 52/52 [00:06<00:00,  8.14it/s]\n"
     ]
    },
    {
     "name": "stdout",
     "output_type": "stream",
     "text": [
      "Train :fog_48\n",
      "epoch : 48, Train Loss : 0.01235365183237131, Val Loss : 0.14319642669467542, Time : 127.61895155906677, AP : 0.9505738652554889\n"
     ]
    },
    {
     "name": "stderr",
     "output_type": "stream",
     "text": [
      "100%|█████████████████████████████████████████| 106/106 [00:08<00:00, 13.20it/s]\n",
      "100%|█████████████████████████████████████████| 321/321 [00:24<00:00, 13.01it/s]\n",
      "100%|█████████████████████████████████████████| 300/300 [00:22<00:00, 13.33it/s]\n"
     ]
    },
    {
     "name": "stdout",
     "output_type": "stream",
     "text": [
      "epoch48_AP:0.9007649737753605\n"
     ]
    },
    {
     "name": "stderr",
     "output_type": "stream",
     "text": [
      "Iterating validation dataset: 100%|███████████| 149/149 [00:18<00:00,  8.27it/s]\n",
      "Iterating training dataset: 100%|███████████| 1194/1194 [05:25<00:00,  3.67it/s]\n",
      "Calculating AP: 100%|█████████████████████████| 149/149 [00:17<00:00,  8.32it/s]\n"
     ]
    },
    {
     "name": "stdout",
     "output_type": "stream",
     "text": [
      "Train :sunny_49\n",
      "epoch : 49, Train Loss : 0.012365262676381399, Val Loss : 0.1373993900898319, Time : 361.1152424812317, AP : 0.9493143723798685\n"
     ]
    },
    {
     "name": "stderr",
     "output_type": "stream",
     "text": [
      "Iterating validation dataset: 100%|███████████| 160/160 [00:19<00:00,  8.34it/s]\n",
      "Iterating training dataset: 100%|███████████| 1281/1281 [05:49<00:00,  3.67it/s]\n",
      "Calculating AP: 100%|█████████████████████████| 160/160 [00:19<00:00,  8.32it/s]\n"
     ]
    },
    {
     "name": "stdout",
     "output_type": "stream",
     "text": [
      "Train :rain_49\n",
      "epoch : 49, Train Loss : 0.051889868014020256, Val Loss : 0.5228634477825835, Time : 387.75226044654846, AP : 0.8871679699649642\n"
     ]
    },
    {
     "name": "stderr",
     "output_type": "stream",
     "text": [
      "Iterating validation dataset: 100%|█████████████| 52/52 [00:06<00:00,  8.25it/s]\n",
      "Iterating training dataset: 100%|█████████████| 419/419 [01:54<00:00,  3.67it/s]\n",
      "Calculating AP: 100%|███████████████████████████| 52/52 [00:06<00:00,  8.22it/s]\n"
     ]
    },
    {
     "name": "stdout",
     "output_type": "stream",
     "text": [
      "Train :fog_49\n",
      "epoch : 49, Train Loss : 0.012297194368297097, Val Loss : 0.1439745007396246, Time : 126.98854470252991, AP : 0.9465890302907738\n"
     ]
    },
    {
     "name": "stderr",
     "output_type": "stream",
     "text": [
      "100%|█████████████████████████████████████████| 106/106 [00:07<00:00, 13.42it/s]\n",
      "100%|█████████████████████████████████████████| 321/321 [00:24<00:00, 13.08it/s]\n",
      "100%|█████████████████████████████████████████| 300/300 [00:22<00:00, 13.34it/s]\n"
     ]
    },
    {
     "name": "stdout",
     "output_type": "stream",
     "text": [
      "epoch49_AP:0.8974902171592918\n"
     ]
    },
    {
     "name": "stderr",
     "output_type": "stream",
     "text": [
      "Iterating validation dataset: 100%|███████████| 149/149 [00:17<00:00,  8.36it/s]\n",
      "Iterating training dataset: 100%|███████████| 1194/1194 [05:23<00:00,  3.69it/s]\n",
      "Calculating AP: 100%|█████████████████████████| 149/149 [00:17<00:00,  8.34it/s]\n"
     ]
    },
    {
     "name": "stdout",
     "output_type": "stream",
     "text": [
      "Train :sunny_50\n",
      "epoch : 50, Train Loss : 0.012314930773875247, Val Loss : 0.14108437120339415, Time : 359.48525309562683, AP : 0.9491916941452772\n"
     ]
    },
    {
     "name": "stderr",
     "output_type": "stream",
     "text": [
      "Iterating validation dataset: 100%|███████████| 160/160 [00:19<00:00,  8.34it/s]\n",
      "Iterating training dataset: 100%|███████████| 1281/1281 [05:48<00:00,  3.67it/s]\n",
      "Calculating AP: 100%|█████████████████████████| 160/160 [00:19<00:00,  8.30it/s]\n"
     ]
    },
    {
     "name": "stdout",
     "output_type": "stream",
     "text": [
      "Train :rain_50\n",
      "epoch : 50, Train Loss : 0.05087941361679917, Val Loss : 0.5995955577585846, Time : 387.7009582519531, AP : 0.8760368691031815\n"
     ]
    },
    {
     "name": "stderr",
     "output_type": "stream",
     "text": [
      "Iterating validation dataset: 100%|█████████████| 52/52 [00:06<00:00,  8.25it/s]\n",
      "Iterating training dataset: 100%|█████████████| 419/419 [01:54<00:00,  3.67it/s]\n",
      "Calculating AP: 100%|███████████████████████████| 52/52 [00:06<00:00,  8.23it/s]\n"
     ]
    },
    {
     "name": "stdout",
     "output_type": "stream",
     "text": [
      "Train :fog_50\n",
      "epoch : 50, Train Loss : 0.01209759702494808, Val Loss : 0.15292056296199846, Time : 126.83940529823303, AP : 0.9605950415010938\n"
     ]
    },
    {
     "name": "stderr",
     "output_type": "stream",
     "text": [
      "100%|█████████████████████████████████████████| 106/106 [00:07<00:00, 13.44it/s]\n",
      "100%|█████████████████████████████████████████| 321/321 [00:24<00:00, 13.06it/s]\n",
      "100%|█████████████████████████████████████████| 300/300 [00:22<00:00, 13.33it/s]\n"
     ]
    },
    {
     "name": "stdout",
     "output_type": "stream",
     "text": [
      "epoch50_AP:0.8987981334188575\n"
     ]
    }
   ],
   "source": [
    "number_epoch = 50\n",
    "\n",
    "sunny_epoch_loss_list = []\n",
    "rain_epoch_loss_list = []\n",
    "fog_epoch_loss_list = []\n",
    "sunny_val_epoch_loss_list = []\n",
    "rain_val_epoch_loss_list = []\n",
    "fog_val_epoch_loss_list = []\n",
    "sunny_mAP_list = []\n",
    "rain_mAP_list = []\n",
    "fog_mAP_list = []\n",
    "mAP_list = []\n",
    "\n",
    "\n",
    "for i in range(number_epoch) :\n",
    "    #Load sunny model\n",
    "    model_sunny = get_model_instance_segmentation(2)\n",
    "    model_sunny.to(device)\n",
    "    model_sunny.load_state_dict(torch.load('./model/sunny_rpn_'+str(i+1)+'.pt'))\n",
    "    model_sunny.eval()\n",
    "    \n",
    "    #Load fog model\n",
    "    model = get_model_instance_segmentation(2)\n",
    "    model.to(device)\n",
    "    model.load_state_dict(torch.load('./model/fog_rpn_'+str(i+1)+'.pt'))\n",
    "    model.eval()\n",
    "    \n",
    "    #Change heads of the last model (-> sunny)\n",
    "    model.roi_heads.state_dict().update(model_sunny.roi_heads.state_dict())\n",
    "    model.rpn.state_dict().update(model_sunny.rpn.state_dict())\n",
    "    model.roi_heads.load_state_dict(model_sunny.roi_heads.state_dict())\n",
    "    model.rpn.load_state_dict(model_sunny.rpn.state_dict())\n",
    "    model.eval()\n",
    "    \n",
    "    # Training with sunny data\n",
    "    num_epochs = 1\n",
    "    lr=0.00001\n",
    "    weather = 'sunny'\n",
    "    optimizer = torch.optim.Adam(model.parameters(), lr)\n",
    "    dataset = RadarDataset(data_transform, '../Ex3_final/data/'+weather+'/images_train/')\n",
    "    train_data_loader = torch.utils.data.DataLoader(dataset, batch_size=2, collate_fn=collate_fn, num_workers=1, shuffle=True)\n",
    "    val_dataset = RadarDataset(data_transform, '../Ex3_final/data/'+weather+'/images_val')\n",
    "    val_data_loader = torch.utils.data.DataLoader(val_dataset, batch_size=2, collate_fn=collate_fn, num_workers=1, shuffle=False)\n",
    "\n",
    "\n",
    "\n",
    "    for epoch in range(num_epochs):\n",
    "        start = time.time()\n",
    "        epoch_loss = 0\n",
    "        val_epoch_loss = 0\n",
    "        model.train()\n",
    "    \n",
    "        # Valdiation data\n",
    "        for imgs, targets in tqdm(val_data_loader, 'Iterating validation dataset'):\n",
    "            imgs = list(img.to(device) for img in imgs)\n",
    "            targets = [{k: v.to(device) for k, v in t.items()} for t in targets]\n",
    "            with torch.no_grad():\n",
    "                loss_dict = model(imgs, targets) \n",
    "            losses = sum(loss for loss in loss_dict.values())\n",
    "            val_epoch_loss += losses.item()\n",
    "        sunny_val_epoch_loss = val_epoch_loss/len(val_data_loader)\n",
    "\n",
    "        # Train data\n",
    "        for imgs, targets in tqdm(train_data_loader, 'Iterating training dataset'):\n",
    "            optimizer.zero_grad()\n",
    "            imgs = list(img.to(device) for img in imgs)\n",
    "            targets = [{k: v.to(device) for k, v in t.items()} for t in targets]\n",
    "            loss_dict = model(imgs, targets) \n",
    "            losses = sum(loss for loss in loss_dict.values())\n",
    "            epoch_loss += losses.item()\n",
    "            losses.backward()\n",
    "            optimizer.step()\n",
    "        sunny_epoch_loss = epoch_loss/len(train_data_loader)\n",
    "    \n",
    "        # AP Caculation\n",
    "        labels = []\n",
    "        preds_adj_all = []\n",
    "        annot_all = []\n",
    "        for imgs, targets in tqdm(val_data_loader, 'Calculating AP'):\n",
    "            im = list(img.to(device) for img in imgs)\n",
    "            for t in targets:\n",
    "                labels += t['labels']\n",
    "            with torch.no_grad():\n",
    "                preds_adj = make_prediction(model, im, 0.5)\n",
    "                preds_adj = [{k: v.to('cpu') for k, v in t.items()} for t in preds_adj]\n",
    "                preds_adj_all.append(preds_adj)\n",
    "                annot_all.append(targets)\n",
    "        sample_metrics = []\n",
    "        for batch_i in range(len(preds_adj_all)):\n",
    "            sample_metrics += get_batch_statistics(preds_adj_all[batch_i], annot_all[batch_i], iou_threshold=0.5) \n",
    "        true_positives, pred_scores, pred_labels = [torch.cat(x, 0) for x in list(zip(*sample_metrics))]\n",
    "        precision, recall, AP, f1, ap_class = ap_per_class(true_positives, pred_scores, pred_labels, torch.tensor(labels))\n",
    "        sunny_mAP = torch.mean(AP)\n",
    "    \n",
    "        sunny_epoch_loss_list.append(sunny_epoch_loss) \n",
    "        sunny_val_epoch_loss_list.append(sunny_val_epoch_loss)\n",
    "        sunny_mAP_list.append(sunny_mAP)\n",
    "        \n",
    "        print('Train :'+weather+'_'+str(i+1))\n",
    "        print(f'epoch : {i+1}, Train Loss : {sunny_epoch_loss}, Val Loss : {sunny_val_epoch_loss}, Time : {time.time() - start}, AP : {sunny_mAP}')\n",
    "        torch.save(model.state_dict(), './model/sunny_rpn_'+str(i+2)+'.pt')\n",
    "        \n",
    "    # Load rain model\n",
    "    model_rain = get_model_instance_segmentation(2)\n",
    "    model_rain.to(device)\n",
    "    model_rain.load_state_dict(torch.load('./model/rain_rpn_'+str(i+1)+'.pt'))\n",
    "    model_rain.eval()\n",
    "        \n",
    "    #Change heads of the last model (-> rain)\n",
    "    model.roi_heads.state_dict().update(model_rain.roi_heads.state_dict())\n",
    "    model.rpn.state_dict().update(model_rain.rpn.state_dict())\n",
    "    model.roi_heads.load_state_dict(model_rain.roi_heads.state_dict())\n",
    "    model.rpn.load_state_dict(model_rain.rpn.state_dict())\n",
    "    model.eval()\n",
    "    \n",
    "    # Training with rain data\n",
    "    num_epochs = 1\n",
    "    lr=0.00001\n",
    "    weather = 'rain'\n",
    "    optimizer = torch.optim.Adam(model.parameters(), lr)\n",
    "    dataset = RadarDataset(data_transform, '../Ex3_final/data/'+weather+'/images_train/')\n",
    "    train_data_loader = torch.utils.data.DataLoader(dataset, batch_size=2, collate_fn=collate_fn, num_workers=1, shuffle=True)\n",
    "    val_dataset = RadarDataset(data_transform, '../Ex3_final/data/'+weather+'/images_val')\n",
    "    val_data_loader = torch.utils.data.DataLoader(val_dataset, batch_size=2, collate_fn=collate_fn, num_workers=1, shuffle=False)\n",
    "\n",
    "    \n",
    "\n",
    "    for epoch in range(num_epochs):\n",
    "        start = time.time()\n",
    "        epoch_loss = 0\n",
    "        val_epoch_loss = 0\n",
    "        model.train()\n",
    "    \n",
    "        # Valdiation data\n",
    "        for imgs, targets in tqdm(val_data_loader, 'Iterating validation dataset'):\n",
    "            imgs = list(img.to(device) for img in imgs)\n",
    "            targets = [{k: v.to(device) for k, v in t.items()} for t in targets]\n",
    "            with torch.no_grad():\n",
    "                loss_dict = model(imgs, targets) \n",
    "            losses = sum(loss for loss in loss_dict.values())\n",
    "            val_epoch_loss += losses.item()\n",
    "        rain_val_epoch_loss = val_epoch_loss/len(val_data_loader)\n",
    "\n",
    "        # Train data\n",
    "        for imgs, targets in tqdm(train_data_loader, 'Iterating training dataset'):\n",
    "            optimizer.zero_grad()\n",
    "            imgs = list(img.to(device) for img in imgs)\n",
    "            targets = [{k: v.to(device) for k, v in t.items()} for t in targets]\n",
    "            loss_dict = model(imgs, targets) \n",
    "            losses = sum(loss for loss in loss_dict.values())\n",
    "            epoch_loss += losses.item()\n",
    "            losses.backward()\n",
    "            optimizer.step()\n",
    "        rain_epoch_loss = epoch_loss/len(train_data_loader)\n",
    "    \n",
    "        # AP Caculation\n",
    "        labels = []\n",
    "        preds_adj_all = []\n",
    "        annot_all = []\n",
    "        for imgs, targets in tqdm(val_data_loader, 'Calculating AP'):\n",
    "            im = list(img.to(device) for img in imgs)\n",
    "            for t in targets:\n",
    "                labels += t['labels']\n",
    "            with torch.no_grad():\n",
    "                preds_adj = make_prediction(model, im, 0.5)\n",
    "                preds_adj = [{k: v.to('cpu') for k, v in t.items()} for t in preds_adj]\n",
    "                preds_adj_all.append(preds_adj)\n",
    "                annot_all.append(targets)\n",
    "        sample_metrics = []\n",
    "        for batch_i in range(len(preds_adj_all)):\n",
    "            sample_metrics += get_batch_statistics(preds_adj_all[batch_i], annot_all[batch_i], iou_threshold=0.5) \n",
    "        true_positives, pred_scores, pred_labels = [torch.cat(x, 0) for x in list(zip(*sample_metrics))]\n",
    "        precision, recall, AP, f1, ap_class = ap_per_class(true_positives, pred_scores, pred_labels, torch.tensor(labels))\n",
    "        rain_mAP = torch.mean(AP)\n",
    "    \n",
    "        rain_epoch_loss_list.append(rain_epoch_loss) \n",
    "        rain_val_epoch_loss_list.append(rain_val_epoch_loss)\n",
    "        rain_mAP_list.append(rain_mAP)\n",
    "    \n",
    "        print('Train :'+weather+'_'+str(i+1))\n",
    "        print(f'epoch : {i+1}, Train Loss : {rain_epoch_loss}, Val Loss : {rain_val_epoch_loss}, Time : {time.time() - start}, AP : {rain_mAP}')\n",
    "        torch.save(model.state_dict(), './model/rain_rpn_'+str(i+2)+'.pt')\n",
    "        \n",
    "    # Load fog model\n",
    "    model_fog = get_model_instance_segmentation(2)\n",
    "    model_fog.to(device)\n",
    "    model_fog.load_state_dict(torch.load('./model/fog_rpn_'+str(i+1)+'.pt'))\n",
    "    model_fog.eval()\n",
    "        \n",
    "    #Change heads of the last model (-> fog)\n",
    "    model.roi_heads.state_dict().update(model_fog.roi_heads.state_dict())\n",
    "    model.rpn.state_dict().update(model_fog.rpn.state_dict())\n",
    "    model.roi_heads.load_state_dict(model_fog.roi_heads.state_dict())\n",
    "    model.rpn.load_state_dict(model_fog.rpn.state_dict())\n",
    "    model.eval()\n",
    "    \n",
    "    # Training with fog data\n",
    "    num_epochs = 1\n",
    "    lr=0.00001\n",
    "    weather = 'fog'\n",
    "    optimizer = torch.optim.Adam(model.parameters(), lr)\n",
    "    dataset = RadarDataset(data_transform, '../Ex3_final/data/'+weather+'/images_train/')\n",
    "    train_data_loader = torch.utils.data.DataLoader(dataset, batch_size=2, collate_fn=collate_fn, num_workers=1, shuffle=True)\n",
    "    val_dataset = RadarDataset(data_transform, '../Ex3_final/data/'+weather+'/images_val')\n",
    "    val_data_loader = torch.utils.data.DataLoader(val_dataset, batch_size=2, collate_fn=collate_fn, num_workers=1, shuffle=False)\n",
    "\n",
    "\n",
    "    for epoch in range(num_epochs):\n",
    "        start = time.time()\n",
    "        epoch_loss = 0\n",
    "        val_epoch_loss = 0\n",
    "        model.train()\n",
    "    \n",
    "        # Valdiation data\n",
    "        for imgs, targets in tqdm(val_data_loader, 'Iterating validation dataset'):\n",
    "            imgs = list(img.to(device) for img in imgs)\n",
    "            targets = [{k: v.to(device) for k, v in t.items()} for t in targets]\n",
    "            with torch.no_grad():\n",
    "                loss_dict = model(imgs, targets) \n",
    "            losses = sum(loss for loss in loss_dict.values())\n",
    "            val_epoch_loss += losses.item()\n",
    "        fog_val_epoch_loss = val_epoch_loss/len(val_data_loader)\n",
    "\n",
    "        # Train data\n",
    "        for imgs, targets in tqdm(train_data_loader, 'Iterating training dataset'):\n",
    "            optimizer.zero_grad()\n",
    "            imgs = list(img.to(device) for img in imgs)\n",
    "            targets = [{k: v.to(device) for k, v in t.items()} for t in targets]\n",
    "            loss_dict = model(imgs, targets) \n",
    "            losses = sum(loss for loss in loss_dict.values())\n",
    "            epoch_loss += losses.item()\n",
    "            losses.backward()\n",
    "            optimizer.step()\n",
    "        fog_epoch_loss = epoch_loss/len(train_data_loader)\n",
    "    \n",
    "        # AP Caculation\n",
    "        labels = []\n",
    "        preds_adj_all = []\n",
    "        annot_all = []\n",
    "        for imgs, targets in tqdm(val_data_loader, 'Calculating AP'):\n",
    "            im = list(img.to(device) for img in imgs)\n",
    "            for t in targets:\n",
    "                labels += t['labels']\n",
    "            with torch.no_grad():\n",
    "                preds_adj = make_prediction(model, im, 0.5)\n",
    "                preds_adj = [{k: v.to('cpu') for k, v in t.items()} for t in preds_adj]\n",
    "                preds_adj_all.append(preds_adj)\n",
    "                annot_all.append(targets)\n",
    "        sample_metrics = []\n",
    "        for batch_i in range(len(preds_adj_all)):\n",
    "            sample_metrics += get_batch_statistics(preds_adj_all[batch_i], annot_all[batch_i], iou_threshold=0.5) \n",
    "        true_positives, pred_scores, pred_labels = [torch.cat(x, 0) for x in list(zip(*sample_metrics))]\n",
    "        precision, recall, AP, f1, ap_class = ap_per_class(true_positives, pred_scores, pred_labels, torch.tensor(labels))\n",
    "        fog_mAP = torch.mean(AP)\n",
    "    \n",
    "        fog_epoch_loss_list.append(fog_epoch_loss) \n",
    "        fog_val_epoch_loss_list.append(fog_val_epoch_loss)\n",
    "        fog_mAP_list.append(fog_mAP)\n",
    "        \n",
    "        print('Train :'+weather+'_'+str(i+1))\n",
    "        print(f'epoch : {i+1}, Train Loss : {fog_epoch_loss}, Val Loss : {fog_val_epoch_loss}, Time : {time.time() - start}, AP : {fog_mAP}')\n",
    "        torch.save(model.state_dict(), './model/fog_rpn_'+str(i+2)+'.pt')\n",
    "        \n",
    "\n",
    "    #### Evaluation ####\n",
    "    # Load models\n",
    "    model_sunny = get_model_instance_segmentation(2)\n",
    "    model_sunny.to(device)\n",
    "    model_sunny.load_state_dict(torch.load('./model/sunny_rpn_'+str(i+2)+'.pt'))\n",
    "    model_sunny.eval()\n",
    "\n",
    "    model_rain = get_model_instance_segmentation(2)\n",
    "    model_rain.to(device)\n",
    "    model_rain.load_state_dict(torch.load('./model/rain_rpn_'+str(i+2)+'.pt'))\n",
    "    model_rain.eval()\n",
    "\n",
    "    model_last = get_model_instance_segmentation(2)\n",
    "    model_last.to(device)\n",
    "    model_last.load_state_dict(torch.load('./model/fog_rpn_'+str(i+2)+'.pt'))\n",
    "    model_last.eval()\n",
    "    \n",
    "    # sunny model\n",
    "    model_last.roi_heads.state_dict().update(model_sunny.roi_heads.state_dict())\n",
    "    model_last.rpn.state_dict().update(model_sunny.rpn.state_dict())\n",
    "    model_last.rpn.load_state_dict(model_sunny.rpn.state_dict())\n",
    "    model_last.roi_heads.load_state_dict(model_sunny.roi_heads.state_dict())\n",
    "    model_last.eval()\n",
    "    model_sunny = model_last\n",
    "\n",
    "    # rain model\n",
    "    model_s = get_model_instance_segmentation(2)\n",
    "    model_s.to(device)\n",
    "    model_s.load_state_dict(torch.load('./model/fog_rpn_'+str(i+2)+'.pt'))\n",
    "    model_s.eval()\n",
    "\n",
    "    model_s.roi_heads.state_dict().update(model_rain.roi_heads.state_dict())\n",
    "    model_s.rpn.state_dict().update(model_rain.rpn.state_dict())\n",
    "    model_s.roi_heads.load_state_dict(model_rain.roi_heads.state_dict())\n",
    "    model_s.rpn.load_state_dict(model_rain.rpn.state_dict())\n",
    "    model_s.eval()\n",
    "    model_rain = model_s\n",
    "\n",
    "    # fog model\n",
    "    model_fog = get_model_instance_segmentation(2)\n",
    "    model_fog.to(device)\n",
    "    model_fog.load_state_dict(torch.load('./model/fog_rpn_'+str(i+2)+'.pt'))\n",
    "    model_fog.eval()\n",
    "    \n",
    "    \n",
    "    # fog \n",
    "    model = model_fog\n",
    "\n",
    "    labels_fog = []\n",
    "    preds_adj_all_fog = []\n",
    "    annot_all_fog = []\n",
    "\n",
    "    for im, annot in tqdm(test_data_loader_fog, position = 0, leave = True):\n",
    "        im = list(img.to(device) for img in im)\n",
    "  \n",
    "        for t in annot:\n",
    "            labels_fog += t['labels']\n",
    "\n",
    "        with torch.no_grad():\n",
    "            preds_adj_fog = make_prediction(model, im, 0.5)\n",
    "            preds_adj_fog = [{k: v.to(torch.device('cpu')) for k, v in t.items()} for t in preds_adj_fog]\n",
    "            preds_adj_all_fog.append(preds_adj_fog)\n",
    "            annot_all_fog.append(annot)\n",
    "            \n",
    "    #rain\n",
    "    model = model_rain\n",
    "\n",
    "    labels_rain = []\n",
    "    preds_adj_all_rain = []\n",
    "    annot_all_rain = []\n",
    "\n",
    "    for im, annot in tqdm(test_data_loader_rain, position = 0, leave = True):\n",
    "        im = list(img.to(device) for img in im)\n",
    "        #annot = [{k: v.to(device) for k, v in t.items()} for t in annot]\n",
    "\n",
    "        for t in annot:\n",
    "            labels_rain += t['labels']\n",
    "\n",
    "        with torch.no_grad():\n",
    "            preds_adj_rain = make_prediction(model, im, 0.5)\n",
    "            preds_adj_rain = [{k: v.to(torch.device('cpu')) for k, v in t.items()} for t in preds_adj_rain]\n",
    "            preds_adj_all_rain.append(preds_adj_rain)\n",
    "            annot_all_rain.append(annot)\n",
    "            \n",
    "    #sunny\n",
    "\n",
    "    model = model_sunny\n",
    "\n",
    "    labels_sunny = []\n",
    "    preds_adj_all_sunny = []\n",
    "    annot_all_sunny = []\n",
    "    \n",
    "    for im, annot in tqdm(test_data_loader_sunny, position = 0, leave = True):\n",
    "        im = list(img.to(device) for img in im)\n",
    "        #annot = [{k: v.to(device) for k, v in t.items()} for t in annot]\n",
    "\n",
    "        for t in annot:\n",
    "            labels_sunny += t['labels']\n",
    "\n",
    "        with torch.no_grad():\n",
    "            preds_adj_sunny = make_prediction(model, im, 0.5)\n",
    "            preds_adj_sunny = [{k: v.to(torch.device('cpu')) for k, v in t.items()} for t in preds_adj_sunny]\n",
    "            preds_adj_all_sunny.append(preds_adj_sunny)\n",
    "            annot_all_sunny.append(annot)\n",
    "    \n",
    "    # Sum up all data from different networks\n",
    "    preds_adj_all = preds_adj_all_fog + preds_adj_all_rain + preds_adj_all_sunny\n",
    "    annot_all = annot_all_fog + annot_all_rain + annot_all_sunny\n",
    "    labels = labels_fog + labels_rain + labels_sunny\n",
    "    \n",
    "    #AP\n",
    "    sample_metrics = []\n",
    "\n",
    "    for batch_i in range(len(preds_adj_all)): # len(preds_adj_all) : The number of batches\n",
    "        sample_metrics += get_batch_statistics(preds_adj_all[batch_i], annot_all[batch_i], iou_threshold=0.5) \n",
    "\n",
    "    true_positives, pred_scores, pred_labels = [torch.cat(x, 0) for x in list(zip(*sample_metrics))]\n",
    "    precision, recall, AP, f1, ap_class = ap_per_class(true_positives, pred_scores, pred_labels, torch.tensor(labels))\n",
    "    mAP = torch.mean(AP)\n",
    "    mAP_list.append(mAP)\n",
    "    \n",
    "    print(f'epoch{i+1}_AP:{mAP}')"
   ]
  },
  {
   "cell_type": "code",
   "execution_count": 5,
   "id": "4bf919c8",
   "metadata": {},
   "outputs": [
    {
     "data": {
      "image/png": "[encoded data removed]",
      "text/plain": [
       "<Figure size 1080x720 with 1 Axes>"
      ]
     },
     "metadata": {
      "needs_background": "light"
     },
     "output_type": "display_data"
    }
   ],
   "source": [
    "y1 = sunny_epoch_loss_list\n",
    "y2 = rain_epoch_loss_list\n",
    "y3 = fog_epoch_loss_list\n",
    "y4 = sunny_val_epoch_loss_list\n",
    "y5 = rain_val_epoch_loss_list\n",
    "y6 = fog_val_epoch_loss_list\n",
    "y7 = sunny_mAP_list\n",
    "y8 = rain_mAP_list\n",
    "y9 = fog_mAP_list\n",
    "y10 = mAP_list\n",
    "x = list(range(0,len(y1)))\n",
    "\n",
    "plt.figure(figsize=(15,10))\n",
    "plt.plot(x, y1, label = \"Train_Sunny\")\n",
    "plt.plot(x, y2, label = \"Train_Rain\")\n",
    "plt.plot(x, y3, label = \"Train_Fog\")\n",
    "plt.plot(x, y4, label = \"Val_Sunny\")\n",
    "plt.plot(x, y5, label = \"Val_Rain\")\n",
    "plt.plot(x, y6, label = \"Val_Fog\")\n",
    "\n",
    "plt.xlabel('Epoch')\n",
    "plt.ylabel('Loss')\n",
    "plt.title('Train vs Validation Loss')\n",
    "plt.legend()\n",
    "plt.show()"
   ]
  },
  {
   "cell_type": "code",
   "execution_count": 6,
   "id": "778a27c6",
   "metadata": {},
   "outputs": [
    {
     "data": {
      "image/png": "[encoded data removed]",
      "text/plain": [
       "<Figure size 1080x720 with 1 Axes>"
      ]
     },
     "metadata": {
      "needs_background": "light"
     },
     "output_type": "display_data"
    }
   ],
   "source": [
    "plt.figure(figsize=(15,10))\n",
    "plt.plot(x, y7, label = \"Sunny_AP\")\n",
    "plt.plot(x, y8, label = \"Rain_AP\")\n",
    "plt.plot(x, y9, label = \"Fog_AP\")\n",
    "plt.plot(x, y10, label = \"Total_AP\")\n",
    "\n",
    "plt.xlabel('Epoch')\n",
    "plt.ylabel('AP')\n",
    "plt.legend()\n",
    "plt.show()"
   ]
  },
  {
   "cell_type": "code",
   "execution_count": 7,
   "id": "294de63e",
   "metadata": {},
   "outputs": [
    {
     "data": {
      "image/png": "[encoded data removed]",
      "text/plain": [
       "<Figure size 1080x720 with 1 Axes>"
      ]
     },
     "metadata": {
      "needs_background": "light"
     },
     "output_type": "display_data"
    }
   ],
   "source": [
    "z1 = [a+b+c for a,b,c in zip(y1,y2,y3)]\n",
    "z2 = [a+b+c for a,b,c in zip(y4,y5,y6)]\n",
    "plt.figure(figsize=(15,10))\n",
    "plt.plot(x, z1, label = \"Train Loss\")\n",
    "plt.plot(x, z2, label = \"Val Loss\")\n",
    "\n",
    "plt.xlabel('Epoch')\n",
    "plt.ylabel('Loss')\n",
    "plt.legend()\n",
    "plt.show()"
   ]
  }
 ],
 "metadata": {
  "kernelspec": {
   "display_name": "Python 3 (ipykernel)",
   "language": "python",
   "name": "python3"
  },
  "language_info": {
   "codemirror_mode": {
    "name": "ipython",
    "version": 3
   },
   "file_extension": ".py",
   "mimetype": "text/x-python",
   "name": "python",
   "nbconvert_exporter": "python",
   "pygments_lexer": "ipython3",
   "version": "3.9.0"
  }
 },
 "nbformat": 4,
 "nbformat_minor": 5
}
